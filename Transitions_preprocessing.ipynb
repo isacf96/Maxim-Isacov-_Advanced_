{
 "cells": [
  {
   "cell_type": "markdown",
   "metadata": {},
   "source": [
    "# Combine transitions into one file"
   ]
  },
  {
   "cell_type": "markdown",
   "metadata": {},
   "source": [
    "Used to be one, now there are many and by customers"
   ]
  },
  {
   "cell_type": "code",
   "execution_count": 1,
   "metadata": {},
   "outputs": [],
   "source": [
    "import pandas as pd\n",
    "import numpy as np\n",
    "import os\n",
    "import glob\n",
    "import datetime\n",
    "import matplotlib.pyplot as plt\n",
    "\n",
    "pd.set_option('display.max_columns', None)"
   ]
  },
  {
   "cell_type": "code",
   "execution_count": 2,
   "metadata": {},
   "outputs": [
    {
     "name": "stdout",
     "output_type": "stream",
     "text": [
      "071221\n"
     ]
    }
   ],
   "source": [
    "TODAY = datetime.date.today().strftime(\"%d%m%y\")\n",
    "print(TODAY)"
   ]
  },
  {
   "cell_type": "code",
   "execution_count": 3,
   "metadata": {},
   "outputs": [],
   "source": [
    "DT_IN='20211206'"
   ]
  },
  {
   "cell_type": "markdown",
   "metadata": {},
   "source": [
    "### National transitions"
   ]
  },
  {
   "cell_type": "code",
   "execution_count": 4,
   "metadata": {},
   "outputs": [],
   "source": [
    "#ht_file = glob.glob('../data/raw/{}/Transitions/*Hard Transition.txt'.format(DT_IN))[0]\n",
    "# Load transition data and format it for merge\n",
    "#transitions = pd.read_csv(ht_file, sep='\\t',usecols=['Cur. UCC14', 'Pr. UCC14', 'Valid From','UCC14 Description'])\n"
   ]
  },
  {
   "cell_type": "code",
   "execution_count": null,
   "metadata": {},
   "outputs": [],
   "source": []
  },
  {
   "cell_type": "code",
   "execution_count": null,
   "metadata": {},
   "outputs": [],
   "source": []
  },
  {
   "cell_type": "code",
   "execution_count": 5,
   "metadata": {},
   "outputs": [],
   "source": [
    "\n",
    "# transitions = transitions.append(pd.read_excel('../data/raw/{}/Transitions/Manual_transitions.xlsx'.format(DT_IN), \n",
    "#                                                sheet_name = 'national',usecols=['Cur. UCC14', 'Pr. UCC14', 'Valid From']))\n",
    "transitions = pd.read_excel('../data/raw/{}/Transitions/Manual_transitions.xlsx'.format(DT_IN), \n",
    "                                               sheet_name = 'national',usecols=['Cur. UCC14', 'Pr. UCC14', 'Valid From'])\n",
    "\n",
    "transitions['First_G_WEEK'] = pd.to_datetime(transitions['Valid From'],format='%m-%d-%Y').dt.strftime('W%Y%U')\n",
    "\n",
    "transitions['Cur. UCC14'] = transitions['Cur. UCC14'].astype(str).str.zfill(14)\n",
    "transitions['Pr. UCC14'] = transitions['Pr. UCC14'].astype(str).str.zfill(14)\n",
    "\n",
    "#del transitions['Valid From']"
   ]
  },
  {
   "cell_type": "code",
   "execution_count": null,
   "metadata": {},
   "outputs": [],
   "source": []
  },
  {
   "cell_type": "code",
   "execution_count": 6,
   "metadata": {},
   "outputs": [],
   "source": [
    "#ipks = transitions[transitions['UCC14 Description'].fillna('').str.contains('IPK')]['Cur. UCC14'].unique()"
   ]
  },
  {
   "cell_type": "code",
   "execution_count": 7,
   "metadata": {},
   "outputs": [],
   "source": [
    "# Append Unit Per Case correction coefficient\n"
   ]
  },
  {
   "cell_type": "code",
   "execution_count": 8,
   "metadata": {},
   "outputs": [],
   "source": [
    "sales = pd.read_csv(r'../data/raw/{}/DOMO_UPC_PLANS EXPORT.csv'.format(DT_IN), usecols=['PAD'],dtype=str)"
   ]
  },
  {
   "cell_type": "code",
   "execution_count": 9,
   "metadata": {},
   "outputs": [],
   "source": [
    "sales = sales.drop_duplicates()"
   ]
  },
  {
   "cell_type": "code",
   "execution_count": 10,
   "metadata": {},
   "outputs": [],
   "source": [
    "sales = sales.rename(columns = {'PAD':'PLANNED_ACCOUNT_CD'})"
   ]
  },
  {
   "cell_type": "code",
   "execution_count": 11,
   "metadata": {},
   "outputs": [
    {
     "name": "stderr",
     "output_type": "stream",
     "text": [
      "C:\\Users\\bogda\\anaconda3\\lib\\site-packages\\openpyxl\\styles\\stylesheet.py:214: UserWarning: Workbook contains no default style, apply openpyxl's default\n",
      "  warn(\"Workbook contains no default style, apply openpyxl's default\")\n"
     ]
    }
   ],
   "source": [
    "ch = pd.read_excel('../data/raw/{}/DHUB CH Extract.xlsx'.format(DT_IN),dtype=str)"
   ]
  },
  {
   "cell_type": "code",
   "execution_count": 12,
   "metadata": {},
   "outputs": [],
   "source": [
    "ch['PLANNED_ACCOUNT_CD'] = ch['CUST_ID_NR_CD'] \n",
    "ch['Customer Name'] = ch['APG'] \n",
    "\n",
    "ch = ch[['PLANNED_ACCOUNT_CD','Customer Name']].drop_duplicates(subset = 'PLANNED_ACCOUNT_CD')"
   ]
  },
  {
   "cell_type": "code",
   "execution_count": 13,
   "metadata": {},
   "outputs": [],
   "source": [
    "sales_apg = sales.merge(ch)"
   ]
  },
  {
   "cell_type": "code",
   "execution_count": 14,
   "metadata": {},
   "outputs": [],
   "source": [
    "transitions = transitions.assign(key=1).merge(sales.assign(key=1), how='outer', on='key')\n",
    "del transitions['key']"
   ]
  },
  {
   "cell_type": "code",
   "execution_count": 15,
   "metadata": {},
   "outputs": [
    {
     "data": {
      "text/plain": [
       "Index(['Valid From', 'Pr. UCC14', 'Cur. UCC14', 'First_G_WEEK',\n",
       "       'PLANNED_ACCOUNT_CD'],\n",
       "      dtype='object')"
      ]
     },
     "execution_count": 15,
     "metadata": {},
     "output_type": "execute_result"
    }
   ],
   "source": [
    "transitions.columns"
   ]
  },
  {
   "cell_type": "code",
   "execution_count": 16,
   "metadata": {},
   "outputs": [],
   "source": [
    "#transitions = transitions[(transitions.PLANNED_ACCOUNT_CD == '000174')|(~transitions['Cur. UCC14'].isin(ipks))]"
   ]
  },
  {
   "cell_type": "code",
   "execution_count": 17,
   "metadata": {},
   "outputs": [
    {
     "data": {
      "text/html": [
       "<div>\n",
       "<style scoped>\n",
       "    .dataframe tbody tr th:only-of-type {\n",
       "        vertical-align: middle;\n",
       "    }\n",
       "\n",
       "    .dataframe tbody tr th {\n",
       "        vertical-align: top;\n",
       "    }\n",
       "\n",
       "    .dataframe thead th {\n",
       "        text-align: right;\n",
       "    }\n",
       "</style>\n",
       "<table border=\"1\" class=\"dataframe\">\n",
       "  <thead>\n",
       "    <tr style=\"text-align: right;\">\n",
       "      <th></th>\n",
       "      <th>Valid From</th>\n",
       "      <th>Pr. UCC14</th>\n",
       "      <th>Cur. UCC14</th>\n",
       "      <th>First_G_WEEK</th>\n",
       "      <th>PLANNED_ACCOUNT_CD</th>\n",
       "    </tr>\n",
       "  </thead>\n",
       "  <tbody>\n",
       "  </tbody>\n",
       "</table>\n",
       "</div>"
      ],
      "text/plain": [
       "Empty DataFrame\n",
       "Columns: [Valid From, Pr. UCC14, Cur. UCC14, First_G_WEEK, PLANNED_ACCOUNT_CD]\n",
       "Index: []"
      ]
     },
     "execution_count": 17,
     "metadata": {},
     "output_type": "execute_result"
    }
   ],
   "source": [
    "transitions[transitions['Cur. UCC14'] == '10079400485295']"
   ]
  },
  {
   "cell_type": "markdown",
   "metadata": {},
   "source": [
    "### transitions by apg"
   ]
  },
  {
   "cell_type": "code",
   "execution_count": 18,
   "metadata": {},
   "outputs": [
    {
     "data": {
      "text/plain": [
       "'../data/raw/20211206/Transitions\\\\Current Transitions 11.19.xlsx'"
      ]
     },
     "execution_count": 18,
     "metadata": {},
     "output_type": "execute_result"
    }
   ],
   "source": [
    "ht_file = glob.glob('../data/raw/{}/Transitions/Current Transitions *'.format(DT_IN))[0]\n",
    "ht_file"
   ]
  },
  {
   "cell_type": "code",
   "execution_count": 19,
   "metadata": {},
   "outputs": [],
   "source": [
    "hard_trans = pd.read_excel(ht_file,header = 1)\n",
    "hard_trans['First_G_WEEK'] = pd.to_datetime(hard_trans['Effective In Date']).dt.strftime('W%Y%U')\n",
    "hard_trans['Cur. UCC14'] = hard_trans['Forecast Unit.1'].astype(str).str.zfill(14)\n",
    "hard_trans['Pr. UCC14'] = hard_trans['Forecast Unit'].astype(str).str.zfill(14)\n"
   ]
  },
  {
   "cell_type": "code",
   "execution_count": 20,
   "metadata": {},
   "outputs": [],
   "source": [
    "hard_trans = hard_trans[(~hard_trans['Part Description.1'].str.contains('IPK'))|(hard_trans['Part Description.1'] == 'WALMART')]     "
   ]
  },
  {
   "cell_type": "code",
   "execution_count": 21,
   "metadata": {},
   "outputs": [],
   "source": [
    "hard_trans = hard_trans.merge(sales_apg)\n",
    "hard_trans = hard_trans[['Cur. UCC14','Pr. UCC14','First_G_WEEK','PLANNED_ACCOUNT_CD']].drop_duplicates()"
   ]
  },
  {
   "cell_type": "code",
   "execution_count": 22,
   "metadata": {},
   "outputs": [
    {
     "data": {
      "text/html": [
       "<div>\n",
       "<style scoped>\n",
       "    .dataframe tbody tr th:only-of-type {\n",
       "        vertical-align: middle;\n",
       "    }\n",
       "\n",
       "    .dataframe tbody tr th {\n",
       "        vertical-align: top;\n",
       "    }\n",
       "\n",
       "    .dataframe thead th {\n",
       "        text-align: right;\n",
       "    }\n",
       "</style>\n",
       "<table border=\"1\" class=\"dataframe\">\n",
       "  <thead>\n",
       "    <tr style=\"text-align: right;\">\n",
       "      <th></th>\n",
       "      <th>Cur. UCC14</th>\n",
       "      <th>Pr. UCC14</th>\n",
       "      <th>First_G_WEEK</th>\n",
       "      <th>PLANNED_ACCOUNT_CD</th>\n",
       "    </tr>\n",
       "  </thead>\n",
       "  <tbody>\n",
       "    <tr>\n",
       "      <th>0</th>\n",
       "      <td>10764302018213</td>\n",
       "      <td>10764302215599</td>\n",
       "      <td>W202117</td>\n",
       "      <td>000691</td>\n",
       "    </tr>\n",
       "    <tr>\n",
       "      <th>1</th>\n",
       "      <td>10764302018152</td>\n",
       "      <td>10764302231056</td>\n",
       "      <td>W202122</td>\n",
       "      <td>000691</td>\n",
       "    </tr>\n",
       "    <tr>\n",
       "      <th>2</th>\n",
       "      <td>10764302017834</td>\n",
       "      <td>10764302190360</td>\n",
       "      <td>W202115</td>\n",
       "      <td>000691</td>\n",
       "    </tr>\n",
       "    <tr>\n",
       "      <th>5</th>\n",
       "      <td>10764302019975</td>\n",
       "      <td>10764302017025</td>\n",
       "      <td>W202116</td>\n",
       "      <td>000691</td>\n",
       "    </tr>\n",
       "    <tr>\n",
       "      <th>7</th>\n",
       "      <td>10764302018251</td>\n",
       "      <td>10764302280207</td>\n",
       "      <td>W202118</td>\n",
       "      <td>000691</td>\n",
       "    </tr>\n",
       "    <tr>\n",
       "      <th>...</th>\n",
       "      <td>...</td>\n",
       "      <td>...</td>\n",
       "      <td>...</td>\n",
       "      <td>...</td>\n",
       "    </tr>\n",
       "    <tr>\n",
       "      <th>145352</th>\n",
       "      <td>10732913450265</td>\n",
       "      <td>10732913450012</td>\n",
       "      <td>W202109</td>\n",
       "      <td>000488</td>\n",
       "    </tr>\n",
       "    <tr>\n",
       "      <th>145353</th>\n",
       "      <td>10011111034874</td>\n",
       "      <td>10011111002002</td>\n",
       "      <td>W202148</td>\n",
       "      <td>000488</td>\n",
       "    </tr>\n",
       "    <tr>\n",
       "      <th>145354</th>\n",
       "      <td>10011111034898</td>\n",
       "      <td>10011111002026</td>\n",
       "      <td>W202148</td>\n",
       "      <td>000488</td>\n",
       "    </tr>\n",
       "    <tr>\n",
       "      <th>145355</th>\n",
       "      <td>10011111034867</td>\n",
       "      <td>10011111016955</td>\n",
       "      <td>W202148</td>\n",
       "      <td>000488</td>\n",
       "    </tr>\n",
       "    <tr>\n",
       "      <th>145356</th>\n",
       "      <td>10764302020087</td>\n",
       "      <td>10764302290138</td>\n",
       "      <td>W202203</td>\n",
       "      <td>000488</td>\n",
       "    </tr>\n",
       "  </tbody>\n",
       "</table>\n",
       "<p>40787 rows × 4 columns</p>\n",
       "</div>"
      ],
      "text/plain": [
       "            Cur. UCC14       Pr. UCC14 First_G_WEEK PLANNED_ACCOUNT_CD\n",
       "0       10764302018213  10764302215599      W202117             000691\n",
       "1       10764302018152  10764302231056      W202122             000691\n",
       "2       10764302017834  10764302190360      W202115             000691\n",
       "5       10764302019975  10764302017025      W202116             000691\n",
       "7       10764302018251  10764302280207      W202118             000691\n",
       "...                ...             ...          ...                ...\n",
       "145352  10732913450265  10732913450012      W202109             000488\n",
       "145353  10011111034874  10011111002002      W202148             000488\n",
       "145354  10011111034898  10011111002026      W202148             000488\n",
       "145355  10011111034867  10011111016955      W202148             000488\n",
       "145356  10764302020087  10764302290138      W202203             000488\n",
       "\n",
       "[40787 rows x 4 columns]"
      ]
     },
     "execution_count": 22,
     "metadata": {},
     "output_type": "execute_result"
    }
   ],
   "source": [
    "hard_trans"
   ]
  },
  {
   "cell_type": "code",
   "execution_count": 23,
   "metadata": {},
   "outputs": [],
   "source": [
    "transitions = hard_trans.append(transitions)"
   ]
  },
  {
   "cell_type": "markdown",
   "metadata": {},
   "source": [
    "### Customer transitions"
   ]
  },
  {
   "cell_type": "code",
   "execution_count": 24,
   "metadata": {},
   "outputs": [],
   "source": [
    "ct_file = glob.glob('../data/raw/{}/Transitions/*Customer*Transition.xlsx'.format(DT_IN))[0]"
   ]
  },
  {
   "cell_type": "code",
   "execution_count": 25,
   "metadata": {},
   "outputs": [],
   "source": [
    "cust_trans = pd.read_excel(ct_file,dtype=str)"
   ]
  },
  {
   "cell_type": "code",
   "execution_count": 26,
   "metadata": {},
   "outputs": [],
   "source": [
    "cust_trans = cust_trans.append(pd.read_excel('../data/raw/{}/Transitions/Transition Log.xlsx'.format(DT_IN)))"
   ]
  },
  {
   "cell_type": "code",
   "execution_count": 27,
   "metadata": {},
   "outputs": [],
   "source": [
    "cust_trans = cust_trans[~cust_trans['Old UCC 14'].isna()]"
   ]
  },
  {
   "cell_type": "code",
   "execution_count": 28,
   "metadata": {},
   "outputs": [
    {
     "data": {
      "text/plain": [
       "(1092, 23)"
      ]
     },
     "execution_count": 28,
     "metadata": {},
     "output_type": "execute_result"
    }
   ],
   "source": [
    "cust_trans.shape"
   ]
  },
  {
   "cell_type": "code",
   "execution_count": 29,
   "metadata": {},
   "outputs": [],
   "source": [
    "cust_trans['PLANNED_ACCOUNT_CD'] = cust_trans['Planned Account'].str[:6]\n",
    "cust_trans['Cur. UCC14'] = cust_trans['New UCC 14'].astype('int64').astype(str).str.zfill(14)\n",
    "cust_trans['Pr. UCC14'] = cust_trans['Old UCC 14'].astype('int64').astype(str).str.zfill(14)\n",
    "cust_trans['First_G_WEEK'] = cust_trans['transition date'].astype('datetime64[ns]').dt.strftime('W%Y%U')\n",
    "\n"
   ]
  },
  {
   "cell_type": "code",
   "execution_count": 30,
   "metadata": {},
   "outputs": [
    {
     "data": {
      "text/html": [
       "<div>\n",
       "<style scoped>\n",
       "    .dataframe tbody tr th:only-of-type {\n",
       "        vertical-align: middle;\n",
       "    }\n",
       "\n",
       "    .dataframe tbody tr th {\n",
       "        vertical-align: top;\n",
       "    }\n",
       "\n",
       "    .dataframe thead th {\n",
       "        text-align: right;\n",
       "    }\n",
       "</style>\n",
       "<table border=\"1\" class=\"dataframe\">\n",
       "  <thead>\n",
       "    <tr style=\"text-align: right;\">\n",
       "      <th></th>\n",
       "      <th>APG</th>\n",
       "      <th>Division</th>\n",
       "      <th>Planned Account</th>\n",
       "      <th>Promo Family</th>\n",
       "      <th>UPC</th>\n",
       "      <th>Old UCC 14</th>\n",
       "      <th>New UCC 14</th>\n",
       "      <th>year</th>\n",
       "      <th>transition week</th>\n",
       "      <th>transition date</th>\n",
       "      <th>case pack change</th>\n",
       "      <th>sales history to be moved</th>\n",
       "      <th>reset date</th>\n",
       "      <th>Request Date</th>\n",
       "      <th>PlannedAccount</th>\n",
       "      <th>Requester</th>\n",
       "      <th>Processed Date</th>\n",
       "      <th>Processed by ML</th>\n",
       "      <th>Comments</th>\n",
       "      <th>Processed by</th>\n",
       "      <th>Reprocessed date</th>\n",
       "      <th>Unnamed: 11</th>\n",
       "      <th>Key</th>\n",
       "      <th>PLANNED_ACCOUNT_CD</th>\n",
       "      <th>Cur. UCC14</th>\n",
       "      <th>Pr. UCC14</th>\n",
       "      <th>First_G_WEEK</th>\n",
       "    </tr>\n",
       "  </thead>\n",
       "  <tbody>\n",
       "    <tr>\n",
       "      <th>397</th>\n",
       "      <td>NaN</td>\n",
       "      <td>NaN</td>\n",
       "      <td>000235-000000 : DOLLAR GENERAL</td>\n",
       "      <td>NaN</td>\n",
       "      <td>NaN</td>\n",
       "      <td>10079400482195</td>\n",
       "      <td>10079400494419</td>\n",
       "      <td>NaN</td>\n",
       "      <td>NaN</td>\n",
       "      <td>12/20/2021</td>\n",
       "      <td>NaN</td>\n",
       "      <td>NaN</td>\n",
       "      <td>NaN</td>\n",
       "      <td>NaT</td>\n",
       "      <td>NaN</td>\n",
       "      <td>NaN</td>\n",
       "      <td>NaT</td>\n",
       "      <td>NaN</td>\n",
       "      <td>NaN</td>\n",
       "      <td>NaN</td>\n",
       "      <td>NaN</td>\n",
       "      <td>NaN</td>\n",
       "      <td>NaN</td>\n",
       "      <td>000235</td>\n",
       "      <td>10079400494419</td>\n",
       "      <td>10079400482195</td>\n",
       "      <td>W202151</td>\n",
       "    </tr>\n",
       "    <tr>\n",
       "      <th>406</th>\n",
       "      <td>NaN</td>\n",
       "      <td>NaN</td>\n",
       "      <td>000239-000000 : FAMILY DOLLAR</td>\n",
       "      <td>NaN</td>\n",
       "      <td>NaN</td>\n",
       "      <td>10079400482195</td>\n",
       "      <td>10079400494419</td>\n",
       "      <td>NaN</td>\n",
       "      <td>NaN</td>\n",
       "      <td>12/20/2021</td>\n",
       "      <td>NaN</td>\n",
       "      <td>NaN</td>\n",
       "      <td>NaN</td>\n",
       "      <td>NaT</td>\n",
       "      <td>NaN</td>\n",
       "      <td>NaN</td>\n",
       "      <td>NaT</td>\n",
       "      <td>NaN</td>\n",
       "      <td>NaN</td>\n",
       "      <td>NaN</td>\n",
       "      <td>NaN</td>\n",
       "      <td>NaN</td>\n",
       "      <td>NaN</td>\n",
       "      <td>000239</td>\n",
       "      <td>10079400494419</td>\n",
       "      <td>10079400482195</td>\n",
       "      <td>W202151</td>\n",
       "    </tr>\n",
       "    <tr>\n",
       "      <th>360</th>\n",
       "      <td>NaN</td>\n",
       "      <td>NaN</td>\n",
       "      <td>NaN</td>\n",
       "      <td>NaN</td>\n",
       "      <td>NaN</td>\n",
       "      <td>10079400482195</td>\n",
       "      <td>10079400494419</td>\n",
       "      <td>NaN</td>\n",
       "      <td>NaN</td>\n",
       "      <td>2021-12-20 00:00:00</td>\n",
       "      <td>NaN</td>\n",
       "      <td>NaN</td>\n",
       "      <td>NaN</td>\n",
       "      <td>2021-09-01</td>\n",
       "      <td>000235-000000:DOLLARGENERAL</td>\n",
       "      <td>Matthew McGurgan</td>\n",
       "      <td>NaT</td>\n",
       "      <td>NaN</td>\n",
       "      <td>NaN</td>\n",
       "      <td>NaN</td>\n",
       "      <td>NaN</td>\n",
       "      <td>NaN</td>\n",
       "      <td>000235-000000:DOLLARGENERAL1007940048219510079...</td>\n",
       "      <td>NaN</td>\n",
       "      <td>10079400494419</td>\n",
       "      <td>10079400482195</td>\n",
       "      <td>W202151</td>\n",
       "    </tr>\n",
       "    <tr>\n",
       "      <th>369</th>\n",
       "      <td>NaN</td>\n",
       "      <td>NaN</td>\n",
       "      <td>NaN</td>\n",
       "      <td>NaN</td>\n",
       "      <td>NaN</td>\n",
       "      <td>10079400482195</td>\n",
       "      <td>10079400494419</td>\n",
       "      <td>NaN</td>\n",
       "      <td>NaN</td>\n",
       "      <td>2021-12-20 00:00:00</td>\n",
       "      <td>NaN</td>\n",
       "      <td>NaN</td>\n",
       "      <td>NaN</td>\n",
       "      <td>2021-09-01</td>\n",
       "      <td>000239-000000:FAMILYDOLLAR</td>\n",
       "      <td>Matthew McGurgan</td>\n",
       "      <td>NaT</td>\n",
       "      <td>NaN</td>\n",
       "      <td>NaN</td>\n",
       "      <td>NaN</td>\n",
       "      <td>NaN</td>\n",
       "      <td>NaN</td>\n",
       "      <td>000239-000000:FAMILYDOLLAR10079400482195100794...</td>\n",
       "      <td>NaN</td>\n",
       "      <td>10079400494419</td>\n",
       "      <td>10079400482195</td>\n",
       "      <td>W202151</td>\n",
       "    </tr>\n",
       "  </tbody>\n",
       "</table>\n",
       "</div>"
      ],
      "text/plain": [
       "     APG Division                 Planned Account Promo Family  UPC  \\\n",
       "397  NaN      NaN  000235-000000 : DOLLAR GENERAL          NaN  NaN   \n",
       "406  NaN      NaN   000239-000000 : FAMILY DOLLAR          NaN  NaN   \n",
       "360  NaN      NaN                             NaN          NaN  NaN   \n",
       "369  NaN      NaN                             NaN          NaN  NaN   \n",
       "\n",
       "         Old UCC 14      New UCC 14 year transition week      transition date  \\\n",
       "397  10079400482195  10079400494419  NaN             NaN           12/20/2021   \n",
       "406  10079400482195  10079400494419  NaN             NaN           12/20/2021   \n",
       "360  10079400482195  10079400494419  NaN             NaN  2021-12-20 00:00:00   \n",
       "369  10079400482195  10079400494419  NaN             NaN  2021-12-20 00:00:00   \n",
       "\n",
       "    case pack change sales history to be moved reset date Request Date  \\\n",
       "397              NaN                       NaN        NaN          NaT   \n",
       "406              NaN                       NaN        NaN          NaT   \n",
       "360              NaN                       NaN        NaN   2021-09-01   \n",
       "369              NaN                       NaN        NaN   2021-09-01   \n",
       "\n",
       "                  PlannedAccount         Requester Processed Date  \\\n",
       "397                          NaN               NaN            NaT   \n",
       "406                          NaN               NaN            NaT   \n",
       "360  000235-000000:DOLLARGENERAL  Matthew McGurgan            NaT   \n",
       "369   000239-000000:FAMILYDOLLAR  Matthew McGurgan            NaT   \n",
       "\n",
       "    Processed by ML Comments Processed by  Reprocessed date  Unnamed: 11  \\\n",
       "397             NaN      NaN          NaN               NaN          NaN   \n",
       "406             NaN      NaN          NaN               NaN          NaN   \n",
       "360             NaN      NaN          NaN               NaN          NaN   \n",
       "369             NaN      NaN          NaN               NaN          NaN   \n",
       "\n",
       "                                                   Key PLANNED_ACCOUNT_CD  \\\n",
       "397                                                NaN             000235   \n",
       "406                                                NaN             000239   \n",
       "360  000235-000000:DOLLARGENERAL1007940048219510079...                NaN   \n",
       "369  000239-000000:FAMILYDOLLAR10079400482195100794...                NaN   \n",
       "\n",
       "         Cur. UCC14       Pr. UCC14 First_G_WEEK  \n",
       "397  10079400494419  10079400482195      W202151  \n",
       "406  10079400494419  10079400482195      W202151  \n",
       "360  10079400494419  10079400482195      W202151  \n",
       "369  10079400494419  10079400482195      W202151  "
      ]
     },
     "execution_count": 30,
     "metadata": {},
     "output_type": "execute_result"
    }
   ],
   "source": [
    "cust_trans[cust_trans['Pr. UCC14'].astype(str).str.contains('10079400482195')]"
   ]
  },
  {
   "cell_type": "code",
   "execution_count": 31,
   "metadata": {},
   "outputs": [],
   "source": [
    "cust_trans = cust_trans[['Cur. UCC14', 'Pr. UCC14', 'First_G_WEEK', 'PLANNED_ACCOUNT_CD']]"
   ]
  },
  {
   "cell_type": "code",
   "execution_count": null,
   "metadata": {},
   "outputs": [],
   "source": []
  },
  {
   "cell_type": "code",
   "execution_count": 32,
   "metadata": {},
   "outputs": [],
   "source": [
    "cust_trans = cust_trans.drop_duplicates(subset = ['Cur. UCC14', 'Pr. UCC14',  'PLANNED_ACCOUNT_CD'])"
   ]
  },
  {
   "cell_type": "code",
   "execution_count": 33,
   "metadata": {},
   "outputs": [
    {
     "data": {
      "text/plain": [
       "(473, 4)"
      ]
     },
     "execution_count": 33,
     "metadata": {},
     "output_type": "execute_result"
    }
   ],
   "source": [
    "cust_trans.shape"
   ]
  },
  {
   "cell_type": "markdown",
   "metadata": {},
   "source": [
    "### Hierarchy"
   ]
  },
  {
   "cell_type": "code",
   "execution_count": 34,
   "metadata": {},
   "outputs": [],
   "source": [
    "transitions = transitions.append(cust_trans)"
   ]
  },
  {
   "cell_type": "code",
   "execution_count": 35,
   "metadata": {},
   "outputs": [
    {
     "data": {
      "text/html": [
       "<div>\n",
       "<style scoped>\n",
       "    .dataframe tbody tr th:only-of-type {\n",
       "        vertical-align: middle;\n",
       "    }\n",
       "\n",
       "    .dataframe tbody tr th {\n",
       "        vertical-align: top;\n",
       "    }\n",
       "\n",
       "    .dataframe thead th {\n",
       "        text-align: right;\n",
       "    }\n",
       "</style>\n",
       "<table border=\"1\" class=\"dataframe\">\n",
       "  <thead>\n",
       "    <tr style=\"text-align: right;\">\n",
       "      <th></th>\n",
       "      <th>Cur. UCC14</th>\n",
       "      <th>Pr. UCC14</th>\n",
       "      <th>First_G_WEEK</th>\n",
       "      <th>PLANNED_ACCOUNT_CD</th>\n",
       "      <th>Valid From</th>\n",
       "    </tr>\n",
       "  </thead>\n",
       "  <tbody>\n",
       "    <tr>\n",
       "      <th>76611</th>\n",
       "      <td>10079400494419</td>\n",
       "      <td>10079400482195</td>\n",
       "      <td>W202205</td>\n",
       "      <td>000004</td>\n",
       "      <td>NaN</td>\n",
       "    </tr>\n",
       "    <tr>\n",
       "      <th>76612</th>\n",
       "      <td>10079400494419</td>\n",
       "      <td>10079400482195</td>\n",
       "      <td>W202205</td>\n",
       "      <td>000010</td>\n",
       "      <td>NaN</td>\n",
       "    </tr>\n",
       "    <tr>\n",
       "      <th>76613</th>\n",
       "      <td>10079400494419</td>\n",
       "      <td>10079400482195</td>\n",
       "      <td>W202205</td>\n",
       "      <td>000020</td>\n",
       "      <td>NaN</td>\n",
       "    </tr>\n",
       "    <tr>\n",
       "      <th>76614</th>\n",
       "      <td>10079400494419</td>\n",
       "      <td>10079400482195</td>\n",
       "      <td>W202205</td>\n",
       "      <td>000065</td>\n",
       "      <td>NaN</td>\n",
       "    </tr>\n",
       "    <tr>\n",
       "      <th>76615</th>\n",
       "      <td>10079400494419</td>\n",
       "      <td>10079400482195</td>\n",
       "      <td>W202205</td>\n",
       "      <td>000074</td>\n",
       "      <td>NaN</td>\n",
       "    </tr>\n",
       "    <tr>\n",
       "      <th>...</th>\n",
       "      <td>...</td>\n",
       "      <td>...</td>\n",
       "      <td>...</td>\n",
       "      <td>...</td>\n",
       "      <td>...</td>\n",
       "    </tr>\n",
       "    <tr>\n",
       "      <th>76851</th>\n",
       "      <td>10079400494419</td>\n",
       "      <td>10079400482195</td>\n",
       "      <td>W202205</td>\n",
       "      <td>003462</td>\n",
       "      <td>NaN</td>\n",
       "    </tr>\n",
       "    <tr>\n",
       "      <th>76852</th>\n",
       "      <td>10079400494419</td>\n",
       "      <td>10079400482195</td>\n",
       "      <td>W202205</td>\n",
       "      <td>003466</td>\n",
       "      <td>NaN</td>\n",
       "    </tr>\n",
       "    <tr>\n",
       "      <th>397</th>\n",
       "      <td>10079400494419</td>\n",
       "      <td>10079400482195</td>\n",
       "      <td>W202151</td>\n",
       "      <td>000235</td>\n",
       "      <td>NaN</td>\n",
       "    </tr>\n",
       "    <tr>\n",
       "      <th>406</th>\n",
       "      <td>10079400494419</td>\n",
       "      <td>10079400482195</td>\n",
       "      <td>W202151</td>\n",
       "      <td>000239</td>\n",
       "      <td>NaN</td>\n",
       "    </tr>\n",
       "    <tr>\n",
       "      <th>360</th>\n",
       "      <td>10079400494419</td>\n",
       "      <td>10079400482195</td>\n",
       "      <td>W202151</td>\n",
       "      <td>NaN</td>\n",
       "      <td>NaN</td>\n",
       "    </tr>\n",
       "  </tbody>\n",
       "</table>\n",
       "<p>245 rows × 5 columns</p>\n",
       "</div>"
      ],
      "text/plain": [
       "           Cur. UCC14       Pr. UCC14 First_G_WEEK PLANNED_ACCOUNT_CD  \\\n",
       "76611  10079400494419  10079400482195      W202205             000004   \n",
       "76612  10079400494419  10079400482195      W202205             000010   \n",
       "76613  10079400494419  10079400482195      W202205             000020   \n",
       "76614  10079400494419  10079400482195      W202205             000065   \n",
       "76615  10079400494419  10079400482195      W202205             000074   \n",
       "...               ...             ...          ...                ...   \n",
       "76851  10079400494419  10079400482195      W202205             003462   \n",
       "76852  10079400494419  10079400482195      W202205             003466   \n",
       "397    10079400494419  10079400482195      W202151             000235   \n",
       "406    10079400494419  10079400482195      W202151             000239   \n",
       "360    10079400494419  10079400482195      W202151                NaN   \n",
       "\n",
       "      Valid From  \n",
       "76611        NaN  \n",
       "76612        NaN  \n",
       "76613        NaN  \n",
       "76614        NaN  \n",
       "76615        NaN  \n",
       "...          ...  \n",
       "76851        NaN  \n",
       "76852        NaN  \n",
       "397          NaN  \n",
       "406          NaN  \n",
       "360          NaN  \n",
       "\n",
       "[245 rows x 5 columns]"
      ]
     },
     "execution_count": 35,
     "metadata": {},
     "output_type": "execute_result"
    }
   ],
   "source": [
    "transitions[transitions['Pr. UCC14'].astype(str).str.contains('10079400482195')]"
   ]
  },
  {
   "cell_type": "code",
   "execution_count": 36,
   "metadata": {},
   "outputs": [
    {
     "name": "stderr",
     "output_type": "stream",
     "text": [
      "C:\\Users\\bogda\\anaconda3\\lib\\site-packages\\openpyxl\\styles\\stylesheet.py:214: UserWarning: Workbook contains no default style, apply openpyxl's default\n",
      "  warn(\"Workbook contains no default style, apply openpyxl's default\")\n"
     ]
    }
   ],
   "source": [
    "ph_ucc = pd.read_excel('../data/master_data/DHUB PH Extract.xlsx' ,usecols = ['Find CaseUPC','UCC 14 Code'])     "
   ]
  },
  {
   "cell_type": "code",
   "execution_count": 37,
   "metadata": {},
   "outputs": [],
   "source": [
    "ph_ucc['UCC 14 Code'] = ph_ucc['UCC 14 Code'].astype(str).str.zfill(14)"
   ]
  },
  {
   "cell_type": "code",
   "execution_count": 38,
   "metadata": {},
   "outputs": [],
   "source": [
    "transitions = pd.merge(transitions, ph_ucc, how='left', left_on='Pr. UCC14', right_on='UCC 14 Code'\n",
    "                       ).drop(columns=['UCC 14 Code']).rename(columns={'Find CaseUPC': 'UPC_OLD'})\n",
    "transitions = pd.merge(transitions, ph_ucc, how='left', left_on='Cur. UCC14', right_on='UCC 14 Code'\n",
    "                       ).drop(columns=['UCC 14 Code']).rename(columns={'Find CaseUPC': 'UPC_NEW'})"
   ]
  },
  {
   "cell_type": "code",
   "execution_count": 39,
   "metadata": {},
   "outputs": [],
   "source": [
    "#transitions = transitions[transitions.UPC_OLD != transitions.UPC_NEW]\n",
    "transitions = transitions[~(transitions.UPC_NEW.isna()|transitions.UPC_OLD.isna()|transitions.PLANNED_ACCOUNT_CD.isna())]"
   ]
  },
  {
   "cell_type": "code",
   "execution_count": 40,
   "metadata": {},
   "outputs": [],
   "source": [
    "transitions = transitions[['PLANNED_ACCOUNT_CD','First_G_WEEK', 'UPC_OLD', 'UPC_NEW']].drop_duplicates(subset=['PLANNED_ACCOUNT_CD','UPC_OLD'],keep = 'last')\n"
   ]
  },
  {
   "cell_type": "code",
   "execution_count": 41,
   "metadata": {},
   "outputs": [],
   "source": [
    "transitions['pa_upc_old'] = transitions.PLANNED_ACCOUNT_CD + '-' + transitions.UPC_OLD\n",
    "transitions['pa_upc_new'] = transitions.PLANNED_ACCOUNT_CD + '-' + transitions.UPC_NEW"
   ]
  },
  {
   "cell_type": "code",
   "execution_count": 42,
   "metadata": {},
   "outputs": [],
   "source": [
    "    newest = transitions[['pa_upc_old','pa_upc_new','First_G_WEEK']].drop_duplicates()\n",
    "\n",
    "    newest = newest[newest['pa_upc_old'].isin(newest['pa_upc_new'])]\n",
    "\n",
    "    newest.columns = ['pa_upc_new','pa_upc_newest','newest_week']\n",
    "\n",
    "    newest = newest[newest.pa_upc_new!=newest.pa_upc_newest]\n",
    "    newest.columns = ['pa_upc_new','pa_upc_newest','newest_week']\n"
   ]
  },
  {
   "cell_type": "code",
   "execution_count": 43,
   "metadata": {},
   "outputs": [
    {
     "data": {
      "text/html": [
       "<div>\n",
       "<style scoped>\n",
       "    .dataframe tbody tr th:only-of-type {\n",
       "        vertical-align: middle;\n",
       "    }\n",
       "\n",
       "    .dataframe tbody tr th {\n",
       "        vertical-align: top;\n",
       "    }\n",
       "\n",
       "    .dataframe thead th {\n",
       "        text-align: right;\n",
       "    }\n",
       "</style>\n",
       "<table border=\"1\" class=\"dataframe\">\n",
       "  <thead>\n",
       "    <tr style=\"text-align: right;\">\n",
       "      <th></th>\n",
       "      <th>pa_upc_new</th>\n",
       "      <th>pa_upc_newest</th>\n",
       "      <th>newest_week</th>\n",
       "    </tr>\n",
       "  </thead>\n",
       "  <tbody>\n",
       "    <tr>\n",
       "      <th>1025</th>\n",
       "      <td>000004-007940045329</td>\n",
       "      <td>000004-007940048804</td>\n",
       "      <td>W202118</td>\n",
       "    </tr>\n",
       "    <tr>\n",
       "      <th>1026</th>\n",
       "      <td>000010-007940045329</td>\n",
       "      <td>000010-007940048804</td>\n",
       "      <td>W202118</td>\n",
       "    </tr>\n",
       "    <tr>\n",
       "      <th>1027</th>\n",
       "      <td>000020-007940045329</td>\n",
       "      <td>000020-007940048804</td>\n",
       "      <td>W202118</td>\n",
       "    </tr>\n",
       "    <tr>\n",
       "      <th>1028</th>\n",
       "      <td>000065-007940045329</td>\n",
       "      <td>000065-007940048804</td>\n",
       "      <td>W202118</td>\n",
       "    </tr>\n",
       "    <tr>\n",
       "      <th>1029</th>\n",
       "      <td>000074-007940045329</td>\n",
       "      <td>000074-007940048804</td>\n",
       "      <td>W202118</td>\n",
       "    </tr>\n",
       "    <tr>\n",
       "      <th>...</th>\n",
       "      <td>...</td>\n",
       "      <td>...</td>\n",
       "      <td>...</td>\n",
       "    </tr>\n",
       "    <tr>\n",
       "      <th>66972</th>\n",
       "      <td>000668-073291345025</td>\n",
       "      <td>000668-073291345070</td>\n",
       "      <td>W202209</td>\n",
       "    </tr>\n",
       "    <tr>\n",
       "      <th>66988</th>\n",
       "      <td>000174-073291345024</td>\n",
       "      <td>000174-073291345072</td>\n",
       "      <td>W202209</td>\n",
       "    </tr>\n",
       "    <tr>\n",
       "      <th>66997</th>\n",
       "      <td>000174-001111102788</td>\n",
       "      <td>000174-001111102517</td>\n",
       "      <td>W202126</td>\n",
       "    </tr>\n",
       "    <tr>\n",
       "      <th>66998</th>\n",
       "      <td>000174-001111102795</td>\n",
       "      <td>000174-001111102518</td>\n",
       "      <td>W202126</td>\n",
       "    </tr>\n",
       "    <tr>\n",
       "      <th>66999</th>\n",
       "      <td>000174-001111102802</td>\n",
       "      <td>000174-001111102464</td>\n",
       "      <td>W202126</td>\n",
       "    </tr>\n",
       "  </tbody>\n",
       "</table>\n",
       "<p>545 rows × 3 columns</p>\n",
       "</div>"
      ],
      "text/plain": [
       "                pa_upc_new        pa_upc_newest newest_week\n",
       "1025   000004-007940045329  000004-007940048804     W202118\n",
       "1026   000010-007940045329  000010-007940048804     W202118\n",
       "1027   000020-007940045329  000020-007940048804     W202118\n",
       "1028   000065-007940045329  000065-007940048804     W202118\n",
       "1029   000074-007940045329  000074-007940048804     W202118\n",
       "...                    ...                  ...         ...\n",
       "66972  000668-073291345025  000668-073291345070     W202209\n",
       "66988  000174-073291345024  000174-073291345072     W202209\n",
       "66997  000174-001111102788  000174-001111102517     W202126\n",
       "66998  000174-001111102795  000174-001111102518     W202126\n",
       "66999  000174-001111102802  000174-001111102464     W202126\n",
       "\n",
       "[545 rows x 3 columns]"
      ]
     },
     "execution_count": 43,
     "metadata": {},
     "output_type": "execute_result"
    }
   ],
   "source": [
    "newest"
   ]
  },
  {
   "cell_type": "code",
   "execution_count": 44,
   "metadata": {},
   "outputs": [],
   "source": [
    "transitions_check = transitions.merge(newest,how='left')"
   ]
  },
  {
   "cell_type": "code",
   "execution_count": 46,
   "metadata": {},
   "outputs": [
    {
     "name": "stdout",
     "output_type": "stream",
     "text": [
      "new cycle\n"
     ]
    }
   ],
   "source": [
    "while True:\n",
    "    \n",
    "    newest = transitions[['pa_upc_old','pa_upc_new','First_G_WEEK']].drop_duplicates()\n",
    "\n",
    "    newest = newest[newest['pa_upc_old'].isin(newest['pa_upc_new'])]\n",
    "\n",
    "    newest.columns = ['pa_upc_new','pa_upc_newest','newest_week']\n",
    "\n",
    "    newest = newest[newest.pa_upc_new!=newest.pa_upc_newest]\n",
    "    newest.columns = ['pa_upc_new','pa_upc_newest','newest_week']\n",
    "    transitions = transitions.merge(newest,how='left')\n",
    "    if transitions[transitions.newest_week>transitions.First_G_WEEK].shape[0] == 0:\n",
    "        break\n",
    "    transitions['pa_upc_new'] = np.where(transitions.newest_week>transitions.First_G_WEEK,transitions['pa_upc_newest'],transitions['pa_upc_new'])\n",
    "    \n",
    "    del transitions['pa_upc_newest']\n",
    "    del transitions['newest_week']\n",
    "    print ('new cycle')"
   ]
  },
  {
   "cell_type": "code",
   "execution_count": 47,
   "metadata": {},
   "outputs": [],
   "source": [
    "del transitions['pa_upc_newest']\n",
    "del transitions['newest_week']"
   ]
  },
  {
   "cell_type": "code",
   "execution_count": 48,
   "metadata": {},
   "outputs": [],
   "source": [
    "transitions['UPC_OLD'] = transitions.pa_upc_old.str[-12:]\n",
    "transitions['UPC_NEW'] = transitions.pa_upc_new.str[-12:]"
   ]
  },
  {
   "cell_type": "code",
   "execution_count": 49,
   "metadata": {},
   "outputs": [],
   "source": [
    "del transitions['pa_upc_old']\n",
    "del transitions['pa_upc_new']"
   ]
  },
  {
   "cell_type": "code",
   "execution_count": null,
   "metadata": {},
   "outputs": [],
   "source": []
  },
  {
   "cell_type": "code",
   "execution_count": 50,
   "metadata": {},
   "outputs": [],
   "source": [
    "md = pd.read_csv(r'../data/raw/{}/DOMO_PRODUCT_HIERARCHY EXPORT.csv'.format(DT_IN), usecols=['CS_UPC_NR_CD', 'UNITS_PER_CASE'])\n",
    "md['UPC'] = md['CS_UPC_NR_CD'].astype(str).str.zfill(12)\n",
    "md = md[['UPC', 'UNITS_PER_CASE']]\n",
    "transitions = pd.merge(transitions, md, how='left', left_on='UPC_OLD', right_on='UPC').drop(columns=['UPC']).rename(columns={'UNITS_PER_CASE': 'U_per_CS_OLD'})\n",
    "transitions = pd.merge(transitions, md, how='left', left_on='UPC_NEW', right_on='UPC').drop(columns=['UPC']).rename(columns={'UNITS_PER_CASE': 'U_per_CS_NEW'})\n",
    "transitions['UPC_CORR_COEF'] = transitions['U_per_CS_OLD'] / transitions['U_per_CS_NEW']\n",
    "transitions['UPC_CORR_COEF'] = transitions['UPC_CORR_COEF'].fillna(1)\n"
   ]
  },
  {
   "cell_type": "code",
   "execution_count": null,
   "metadata": {},
   "outputs": [],
   "source": []
  },
  {
   "cell_type": "code",
   "execution_count": 51,
   "metadata": {},
   "outputs": [],
   "source": [
    "transitions = transitions[['PLANNED_ACCOUNT_CD','UPC_OLD', 'UPC_NEW', 'UPC_CORR_COEF','First_G_WEEK'\n",
    "                          ]].drop_duplicates(subset=['PLANNED_ACCOUNT_CD','UPC_OLD'],keep = 'last')"
   ]
  },
  {
   "cell_type": "code",
   "execution_count": 52,
   "metadata": {},
   "outputs": [
    {
     "data": {
      "text/html": [
       "<div>\n",
       "<style scoped>\n",
       "    .dataframe tbody tr th:only-of-type {\n",
       "        vertical-align: middle;\n",
       "    }\n",
       "\n",
       "    .dataframe tbody tr th {\n",
       "        vertical-align: top;\n",
       "    }\n",
       "\n",
       "    .dataframe thead th {\n",
       "        text-align: right;\n",
       "    }\n",
       "</style>\n",
       "<table border=\"1\" class=\"dataframe\">\n",
       "  <thead>\n",
       "    <tr style=\"text-align: right;\">\n",
       "      <th></th>\n",
       "      <th>PLANNED_ACCOUNT_CD</th>\n",
       "      <th>UPC_OLD</th>\n",
       "      <th>UPC_NEW</th>\n",
       "      <th>UPC_CORR_COEF</th>\n",
       "      <th>First_G_WEEK</th>\n",
       "    </tr>\n",
       "  </thead>\n",
       "  <tbody>\n",
       "    <tr>\n",
       "      <th>10</th>\n",
       "      <td>000691</td>\n",
       "      <td>007940048033</td>\n",
       "      <td>007940048697</td>\n",
       "      <td>1.0</td>\n",
       "      <td>W202144</td>\n",
       "    </tr>\n",
       "    <tr>\n",
       "      <th>10670</th>\n",
       "      <td>000004</td>\n",
       "      <td>007940048033</td>\n",
       "      <td>007940048697</td>\n",
       "      <td>1.0</td>\n",
       "      <td>W202144</td>\n",
       "    </tr>\n",
       "    <tr>\n",
       "      <th>10671</th>\n",
       "      <td>000010</td>\n",
       "      <td>007940048033</td>\n",
       "      <td>007940048697</td>\n",
       "      <td>1.0</td>\n",
       "      <td>W202144</td>\n",
       "    </tr>\n",
       "    <tr>\n",
       "      <th>10672</th>\n",
       "      <td>000020</td>\n",
       "      <td>007940048033</td>\n",
       "      <td>007940048697</td>\n",
       "      <td>1.0</td>\n",
       "      <td>W202144</td>\n",
       "    </tr>\n",
       "    <tr>\n",
       "      <th>10673</th>\n",
       "      <td>000065</td>\n",
       "      <td>007940048033</td>\n",
       "      <td>007940048697</td>\n",
       "      <td>1.0</td>\n",
       "      <td>W202144</td>\n",
       "    </tr>\n",
       "    <tr>\n",
       "      <th>...</th>\n",
       "      <td>...</td>\n",
       "      <td>...</td>\n",
       "      <td>...</td>\n",
       "      <td>...</td>\n",
       "      <td>...</td>\n",
       "    </tr>\n",
       "    <tr>\n",
       "      <th>20445</th>\n",
       "      <td>003030</td>\n",
       "      <td>007940048033</td>\n",
       "      <td>007940048697</td>\n",
       "      <td>1.0</td>\n",
       "      <td>W202144</td>\n",
       "    </tr>\n",
       "    <tr>\n",
       "      <th>20446</th>\n",
       "      <td>003463</td>\n",
       "      <td>007940048033</td>\n",
       "      <td>007940048697</td>\n",
       "      <td>1.0</td>\n",
       "      <td>W202144</td>\n",
       "    </tr>\n",
       "    <tr>\n",
       "      <th>20813</th>\n",
       "      <td>000488</td>\n",
       "      <td>007940048033</td>\n",
       "      <td>007940048697</td>\n",
       "      <td>1.0</td>\n",
       "      <td>W202144</td>\n",
       "    </tr>\n",
       "    <tr>\n",
       "      <th>45642</th>\n",
       "      <td>000235</td>\n",
       "      <td>007940048033</td>\n",
       "      <td>007940048697</td>\n",
       "      <td>1.0</td>\n",
       "      <td>W202151</td>\n",
       "    </tr>\n",
       "    <tr>\n",
       "      <th>45651</th>\n",
       "      <td>000239</td>\n",
       "      <td>007940048033</td>\n",
       "      <td>007940048697</td>\n",
       "      <td>1.0</td>\n",
       "      <td>W202151</td>\n",
       "    </tr>\n",
       "  </tbody>\n",
       "</table>\n",
       "<p>268 rows × 5 columns</p>\n",
       "</div>"
      ],
      "text/plain": [
       "      PLANNED_ACCOUNT_CD       UPC_OLD       UPC_NEW  UPC_CORR_COEF  \\\n",
       "10                000691  007940048033  007940048697            1.0   \n",
       "10670             000004  007940048033  007940048697            1.0   \n",
       "10671             000010  007940048033  007940048697            1.0   \n",
       "10672             000020  007940048033  007940048697            1.0   \n",
       "10673             000065  007940048033  007940048697            1.0   \n",
       "...                  ...           ...           ...            ...   \n",
       "20445             003030  007940048033  007940048697            1.0   \n",
       "20446             003463  007940048033  007940048697            1.0   \n",
       "20813             000488  007940048033  007940048697            1.0   \n",
       "45642             000235  007940048033  007940048697            1.0   \n",
       "45651             000239  007940048033  007940048697            1.0   \n",
       "\n",
       "      First_G_WEEK  \n",
       "10         W202144  \n",
       "10670      W202144  \n",
       "10671      W202144  \n",
       "10672      W202144  \n",
       "10673      W202144  \n",
       "...            ...  \n",
       "20445      W202144  \n",
       "20446      W202144  \n",
       "20813      W202144  \n",
       "45642      W202151  \n",
       "45651      W202151  \n",
       "\n",
       "[268 rows x 5 columns]"
      ]
     },
     "execution_count": 52,
     "metadata": {},
     "output_type": "execute_result"
    }
   ],
   "source": [
    "transitions[transitions['UPC_OLD'].astype(str).str.contains('007940048033')]"
   ]
  },
  {
   "cell_type": "code",
   "execution_count": 53,
   "metadata": {},
   "outputs": [],
   "source": [
    "transitions.to_csv('../data/master_data/Transitions_combined.txt',index=False)"
   ]
  },
  {
   "cell_type": "code",
   "execution_count": 54,
   "metadata": {},
   "outputs": [],
   "source": [
    "transitions.to_csv('../data/raw/{}/Transitions/Transitions_combined.txt'.format(DT_IN),index=False)"
   ]
  },
  {
   "cell_type": "code",
   "execution_count": null,
   "metadata": {},
   "outputs": [],
   "source": []
  },
  {
   "cell_type": "code",
   "execution_count": 55,
   "metadata": {},
   "outputs": [],
   "source": [
    "transitions.to_csv('../data/transitions/Transitions_combined'+TODAY+'.txt',index=False)"
   ]
  },
  {
   "cell_type": "code",
   "execution_count": null,
   "metadata": {},
   "outputs": [],
   "source": []
  },
  {
   "cell_type": "code",
   "execution_count": null,
   "metadata": {},
   "outputs": [],
   "source": [
    "stop"
   ]
  },
  {
   "cell_type": "code",
   "execution_count": 56,
   "metadata": {},
   "outputs": [],
   "source": [
    "    transitions = pd.read_csv('../data/master_data/Transitions_combined.txt',\n",
    "                              dtype={'PLANNED_ACCOUNT_CD':'str','UPC_OLD':'str','UPC_NEW':'str','UPC_CORR_COEF':'float','First_G_WEEK':'str'})\n",
    "    transitions = transitions.rename(columns = {'PLANNED_ACCOUNT_CD':'CUSTOMER'})"
   ]
  },
  {
   "cell_type": "code",
   "execution_count": 58,
   "metadata": {},
   "outputs": [
    {
     "data": {
      "text/html": [
       "<div>\n",
       "<style scoped>\n",
       "    .dataframe tbody tr th:only-of-type {\n",
       "        vertical-align: middle;\n",
       "    }\n",
       "\n",
       "    .dataframe tbody tr th {\n",
       "        vertical-align: top;\n",
       "    }\n",
       "\n",
       "    .dataframe thead th {\n",
       "        text-align: right;\n",
       "    }\n",
       "</style>\n",
       "<table border=\"1\" class=\"dataframe\">\n",
       "  <thead>\n",
       "    <tr style=\"text-align: right;\">\n",
       "      <th></th>\n",
       "      <th>CUSTOMER</th>\n",
       "      <th>UPC_OLD</th>\n",
       "      <th>UPC_NEW</th>\n",
       "      <th>UPC_CORR_COEF</th>\n",
       "      <th>First_G_WEEK</th>\n",
       "      <th>temp_f</th>\n",
       "    </tr>\n",
       "  </thead>\n",
       "  <tbody>\n",
       "    <tr>\n",
       "      <th>0</th>\n",
       "      <td>000691</td>\n",
       "      <td>076430201702</td>\n",
       "      <td>076430201997</td>\n",
       "      <td>1.333333</td>\n",
       "      <td>W202116</td>\n",
       "      <td>1</td>\n",
       "    </tr>\n",
       "    <tr>\n",
       "      <th>1</th>\n",
       "      <td>000691</td>\n",
       "      <td>001111100793</td>\n",
       "      <td>001111103044</td>\n",
       "      <td>1.333333</td>\n",
       "      <td>W202119</td>\n",
       "      <td>1</td>\n",
       "    </tr>\n",
       "    <tr>\n",
       "      <th>2</th>\n",
       "      <td>000691</td>\n",
       "      <td>007704300236</td>\n",
       "      <td>007704300345</td>\n",
       "      <td>1.000000</td>\n",
       "      <td>W202125</td>\n",
       "      <td>1</td>\n",
       "    </tr>\n",
       "    <tr>\n",
       "      <th>3</th>\n",
       "      <td>000691</td>\n",
       "      <td>007940040358</td>\n",
       "      <td>007940048023</td>\n",
       "      <td>1.000000</td>\n",
       "      <td>W202104</td>\n",
       "      <td>1</td>\n",
       "    </tr>\n",
       "    <tr>\n",
       "      <th>4</th>\n",
       "      <td>000691</td>\n",
       "      <td>007940040411</td>\n",
       "      <td>007940048022</td>\n",
       "      <td>1.000000</td>\n",
       "      <td>W202104</td>\n",
       "      <td>1</td>\n",
       "    </tr>\n",
       "    <tr>\n",
       "      <th>...</th>\n",
       "      <td>...</td>\n",
       "      <td>...</td>\n",
       "      <td>...</td>\n",
       "      <td>...</td>\n",
       "      <td>...</td>\n",
       "      <td>...</td>\n",
       "    </tr>\n",
       "    <tr>\n",
       "      <th>45655</th>\n",
       "      <td>000239</td>\n",
       "      <td>007940067027</td>\n",
       "      <td>007940048942</td>\n",
       "      <td>1.000000</td>\n",
       "      <td>W202140</td>\n",
       "      <td>1</td>\n",
       "    </tr>\n",
       "    <tr>\n",
       "      <th>45656</th>\n",
       "      <td>000239</td>\n",
       "      <td>007940034370</td>\n",
       "      <td>007940048943</td>\n",
       "      <td>1.000000</td>\n",
       "      <td>W202140</td>\n",
       "      <td>1</td>\n",
       "    </tr>\n",
       "    <tr>\n",
       "      <th>45657</th>\n",
       "      <td>000239</td>\n",
       "      <td>007940058956</td>\n",
       "      <td>007940048940</td>\n",
       "      <td>1.000000</td>\n",
       "      <td>W202141</td>\n",
       "      <td>1</td>\n",
       "    </tr>\n",
       "    <tr>\n",
       "      <th>45658</th>\n",
       "      <td>000239</td>\n",
       "      <td>007940034308</td>\n",
       "      <td>007940048945</td>\n",
       "      <td>1.000000</td>\n",
       "      <td>W202142</td>\n",
       "      <td>1</td>\n",
       "    </tr>\n",
       "    <tr>\n",
       "      <th>45659</th>\n",
       "      <td>003049</td>\n",
       "      <td>073291322974</td>\n",
       "      <td>073291345069</td>\n",
       "      <td>1.000000</td>\n",
       "      <td>W202209</td>\n",
       "      <td>1</td>\n",
       "    </tr>\n",
       "  </tbody>\n",
       "</table>\n",
       "<p>45660 rows × 6 columns</p>\n",
       "</div>"
      ],
      "text/plain": [
       "      CUSTOMER       UPC_OLD       UPC_NEW  UPC_CORR_COEF First_G_WEEK  temp_f\n",
       "0       000691  076430201702  076430201997       1.333333      W202116       1\n",
       "1       000691  001111100793  001111103044       1.333333      W202119       1\n",
       "2       000691  007704300236  007704300345       1.000000      W202125       1\n",
       "3       000691  007940040358  007940048023       1.000000      W202104       1\n",
       "4       000691  007940040411  007940048022       1.000000      W202104       1\n",
       "...        ...           ...           ...            ...          ...     ...\n",
       "45655   000239  007940067027  007940048942       1.000000      W202140       1\n",
       "45656   000239  007940034370  007940048943       1.000000      W202140       1\n",
       "45657   000239  007940058956  007940048940       1.000000      W202141       1\n",
       "45658   000239  007940034308  007940048945       1.000000      W202142       1\n",
       "45659   003049  073291322974  073291345069       1.000000      W202209       1\n",
       "\n",
       "[45660 rows x 6 columns]"
      ]
     },
     "execution_count": 58,
     "metadata": {},
     "output_type": "execute_result"
    }
   ],
   "source": [
    "transitions.assign(temp_merge=1)"
   ]
  },
  {
   "cell_type": "code",
   "execution_count": null,
   "metadata": {},
   "outputs": [],
   "source": []
  }
 ],
 "metadata": {
  "kernelspec": {
   "display_name": "Python 3",
   "language": "python",
   "name": "python3"
  },
  "language_info": {
   "codemirror_mode": {
    "name": "ipython",
    "version": 3
   },
   "file_extension": ".py",
   "mimetype": "text/x-python",
   "name": "python",
   "nbconvert_exporter": "python",
   "pygments_lexer": "ipython3",
   "version": "3.8.8"
  }
 },
 "nbformat": 4,
 "nbformat_minor": 4
}
