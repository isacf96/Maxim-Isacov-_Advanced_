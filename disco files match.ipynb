{
 "cells": [
  {
   "cell_type": "code",
   "execution_count": 1,
   "id": "3309084c",
   "metadata": {},
   "outputs": [],
   "source": [
    "import pandas as pd\n",
    "import numpy as np"
   ]
  },
  {
   "cell_type": "code",
   "execution_count": 2,
   "id": "b4ad55c8",
   "metadata": {},
   "outputs": [],
   "source": [
    "evr=pd.read_excel(r'C:\\Users\\User\\Downloads\\Deletes for Evergreen 2022-01-10.xlsx')       "
   ]
  },
  {
   "cell_type": "code",
   "execution_count": 3,
   "id": "2b6bdf8f",
   "metadata": {},
   "outputs": [],
   "source": [
    "sku=pd.read_excel(r'C:\\Users\\User\\Downloads\\Discos SKU Lineup 01-25-2022.xlsx')    "
   ]
  },
  {
   "cell_type": "code",
   "execution_count": 4,
   "id": "31db7f38",
   "metadata": {},
   "outputs": [
    {
     "data": {
      "text/plain": [
       "Index(['Category', 'Case UPC (UCC14)', 'Case UPC (12)', 'Unit UPC (12)',\n",
       "       'Unit UPC (10)', 'DU Description', 'Item Status Delete',\n",
       "       'Item Status Delete (Hard Transition)', 'LDTC', 'DU Number',\n",
       "       'SKU Master: SKM Code'],\n",
       "      dtype='object')"
      ]
     },
     "execution_count": 4,
     "metadata": {},
     "output_type": "execute_result"
    }
   ],
   "source": [
    "evr.columns"
   ]
  },
  {
   "cell_type": "code",
   "execution_count": 5,
   "id": "f33068b8",
   "metadata": {},
   "outputs": [
    {
     "data": {
      "text/plain": [
       "Index(['Geography', 'Small C', 'Brand', 'Subbrand', 'Format',\n",
       "       'Promo Family Code', 'Units Per Case', 'US Size', 'CA Size',\n",
       "       'DU Description', 'Variant Product Description', 'DU Number',\n",
       "       'Material Status', 'Unit UPC', 'Case UPC (UCC-14)', 'Unit UPC (10)',\n",
       "       'Additional Pack Info', 'Item Status Add',\n",
       "       'Item Status Add Hard Transition', 'Item Status Current',\n",
       "       'Item Status Delete', 'Item Status Delete Hard Transition',\n",
       "       'Item Status Soft Transition', 'Comments', 'FDTC', 'LDTC',\n",
       "       'Expected ACV', 'Projected FY $NSV', 'Projected FY $POS',\n",
       "       'eCommerce - COTC by Channel', 'Hispanic - COTC by Channel',\n",
       "       'National - COTC by Channel', 'COTC By Channel', 'COTC Comments',\n",
       "       'Case Price Brkt 1', 'Unit Price  Brkt 1', 'Price Valid From',\n",
       "       'Price Valid To', 'Unnamed: 38', 'Unnamed: 39'],\n",
       "      dtype='object')"
      ]
     },
     "execution_count": 5,
     "metadata": {},
     "output_type": "execute_result"
    }
   ],
   "source": [
    "sku.columns"
   ]
  },
  {
   "cell_type": "code",
   "execution_count": 9,
   "id": "7c620b70",
   "metadata": {},
   "outputs": [
    {
     "name": "stdout",
     "output_type": "stream",
     "text": [
      "<class 'pandas.core.frame.DataFrame'>\n",
      "RangeIndex: 1437 entries, 0 to 1436\n",
      "Data columns (total 11 columns):\n",
      " #   Column                                Non-Null Count  Dtype         \n",
      "---  ------                                --------------  -----         \n",
      " 0   Category                              1435 non-null   object        \n",
      " 1   Case UPC (UCC14)                      1437 non-null   int64         \n",
      " 2   Case UPC (12)                         1437 non-null   int64         \n",
      " 3   Unit UPC (12)                         1437 non-null   int64         \n",
      " 4   Unit UPC (10)                         1437 non-null   int64         \n",
      " 5   DU Description                        1437 non-null   object        \n",
      " 6   Item Status Delete                    1437 non-null   int64         \n",
      " 7   Item Status Delete (Hard Transition)  33 non-null     float64       \n",
      " 8   LDTC                                  1362 non-null   datetime64[ns]\n",
      " 9   DU Number                             1437 non-null   int64         \n",
      " 10  SKU Master: SKM Code                  1437 non-null   object        \n",
      "dtypes: datetime64[ns](1), float64(1), int64(6), object(3)\n",
      "memory usage: 123.6+ KB\n"
     ]
    }
   ],
   "source": [
    "evr.info()"
   ]
  },
  {
   "cell_type": "code",
   "execution_count": 11,
   "id": "2ba18349",
   "metadata": {},
   "outputs": [
    {
     "data": {
      "text/html": [
       "<div>\n",
       "<style scoped>\n",
       "    .dataframe tbody tr th:only-of-type {\n",
       "        vertical-align: middle;\n",
       "    }\n",
       "\n",
       "    .dataframe tbody tr th {\n",
       "        vertical-align: top;\n",
       "    }\n",
       "\n",
       "    .dataframe thead th {\n",
       "        text-align: right;\n",
       "    }\n",
       "</style>\n",
       "<table border=\"1\" class=\"dataframe\">\n",
       "  <thead>\n",
       "    <tr style=\"text-align: right;\">\n",
       "      <th></th>\n",
       "      <th>Category</th>\n",
       "      <th>Case UPC (UCC14)</th>\n",
       "      <th>Case UPC (12)</th>\n",
       "      <th>Unit UPC (12)</th>\n",
       "      <th>Unit UPC (10)</th>\n",
       "      <th>DU Description</th>\n",
       "      <th>Item Status Delete</th>\n",
       "      <th>Item Status Delete (Hard Transition)</th>\n",
       "      <th>LDTC</th>\n",
       "      <th>DU Number</th>\n",
       "      <th>SKU Master: SKM Code</th>\n",
       "    </tr>\n",
       "  </thead>\n",
       "  <tbody>\n",
       "    <tr>\n",
       "      <th>0</th>\n",
       "      <td>UNILEVER GHB</td>\n",
       "      <td>10077567274783</td>\n",
       "      <td>7756727478</td>\n",
       "      <td>77567274786</td>\n",
       "      <td>7756727478</td>\n",
       "      <td>BR Strawberry 8 1PT</td>\n",
       "      <td>2022</td>\n",
       "      <td>NaN</td>\n",
       "      <td>2022-02-27</td>\n",
       "      <td>68130569</td>\n",
       "      <td>SKM-00540744</td>\n",
       "    </tr>\n",
       "    <tr>\n",
       "      <th>1</th>\n",
       "      <td>UNILEVER GHB</td>\n",
       "      <td>10077567678246</td>\n",
       "      <td>7756767824</td>\n",
       "      <td>77567678249</td>\n",
       "      <td>7756767824</td>\n",
       "      <td>BR Mint Chocolate Chip Pint 8 1PT</td>\n",
       "      <td>2022</td>\n",
       "      <td>NaN</td>\n",
       "      <td>2022-04-01</td>\n",
       "      <td>68130571</td>\n",
       "      <td>SKM-00540765</td>\n",
       "    </tr>\n",
       "    <tr>\n",
       "      <th>2</th>\n",
       "      <td>UNILEVER B+J</td>\n",
       "      <td>10077567000658</td>\n",
       "      <td>7756700065</td>\n",
       "      <td>77567000651</td>\n",
       "      <td>7756700065</td>\n",
       "      <td>BR Delights LFIC Crmy Chocolate 8CT 1PT</td>\n",
       "      <td>2021</td>\n",
       "      <td>NaN</td>\n",
       "      <td>2021-03-30</td>\n",
       "      <td>68130564</td>\n",
       "      <td>SKM-00540806</td>\n",
       "    </tr>\n",
       "    <tr>\n",
       "      <th>3</th>\n",
       "      <td>UNILEVER GHB</td>\n",
       "      <td>10077567274783</td>\n",
       "      <td>7756727478</td>\n",
       "      <td>77567274786</td>\n",
       "      <td>7756727478</td>\n",
       "      <td>BR HA Strawberry 8 1PT</td>\n",
       "      <td>2022</td>\n",
       "      <td>NaN</td>\n",
       "      <td>2022-02-27</td>\n",
       "      <td>68130592</td>\n",
       "      <td>SKM-00540837</td>\n",
       "    </tr>\n",
       "    <tr>\n",
       "      <th>4</th>\n",
       "      <td>HAIR</td>\n",
       "      <td>10055086000236</td>\n",
       "      <td>5508600023</td>\n",
       "      <td>55086000239</td>\n",
       "      <td>5508600023</td>\n",
       "      <td>LBP CD Tea Tree 4p 13.5z/400ml</td>\n",
       "      <td>2022</td>\n",
       "      <td>NaN</td>\n",
       "      <td>2021-12-30</td>\n",
       "      <td>68135840</td>\n",
       "      <td>SKM-00559539</td>\n",
       "    </tr>\n",
       "  </tbody>\n",
       "</table>\n",
       "</div>"
      ],
      "text/plain": [
       "       Category  Case UPC (UCC14)  Case UPC (12)  Unit UPC (12)  \\\n",
       "0  UNILEVER GHB    10077567274783     7756727478    77567274786   \n",
       "1  UNILEVER GHB    10077567678246     7756767824    77567678249   \n",
       "2  UNILEVER B+J    10077567000658     7756700065    77567000651   \n",
       "3  UNILEVER GHB    10077567274783     7756727478    77567274786   \n",
       "4          HAIR    10055086000236     5508600023    55086000239   \n",
       "\n",
       "   Unit UPC (10)                           DU Description  Item Status Delete  \\\n",
       "0     7756727478                      BR Strawberry 8 1PT                2022   \n",
       "1     7756767824        BR Mint Chocolate Chip Pint 8 1PT                2022   \n",
       "2     7756700065  BR Delights LFIC Crmy Chocolate 8CT 1PT                2021   \n",
       "3     7756727478                   BR HA Strawberry 8 1PT                2022   \n",
       "4     5508600023           LBP CD Tea Tree 4p 13.5z/400ml                2022   \n",
       "\n",
       "   Item Status Delete (Hard Transition)       LDTC  DU Number  \\\n",
       "0                                   NaN 2022-02-27   68130569   \n",
       "1                                   NaN 2022-04-01   68130571   \n",
       "2                                   NaN 2021-03-30   68130564   \n",
       "3                                   NaN 2022-02-27   68130592   \n",
       "4                                   NaN 2021-12-30   68135840   \n",
       "\n",
       "  SKU Master: SKM Code  \n",
       "0         SKM-00540744  \n",
       "1         SKM-00540765  \n",
       "2         SKM-00540806  \n",
       "3         SKM-00540837  \n",
       "4         SKM-00559539  "
      ]
     },
     "execution_count": 11,
     "metadata": {},
     "output_type": "execute_result"
    }
   ],
   "source": [
    "evr.head()"
   ]
  },
  {
   "cell_type": "code",
   "execution_count": 12,
   "id": "0f3e2954",
   "metadata": {},
   "outputs": [],
   "source": [
    "evr['Case UPC (UCC14)']=evr['Case UPC (UCC14)'].astype(str)\n",
    "evr['DU Number']=evr['DU Number'].astype(str)"
   ]
  },
  {
   "cell_type": "code",
   "execution_count": 10,
   "id": "69cb9f38",
   "metadata": {},
   "outputs": [
    {
     "name": "stdout",
     "output_type": "stream",
     "text": [
      "<class 'pandas.core.frame.DataFrame'>\n",
      "RangeIndex: 13889 entries, 0 to 13888\n",
      "Data columns (total 40 columns):\n",
      " #   Column                              Non-Null Count  Dtype  \n",
      "---  ------                              --------------  -----  \n",
      " 0   Geography                           13889 non-null  object \n",
      " 1   Small C                             13518 non-null  object \n",
      " 2   Brand                               13823 non-null  object \n",
      " 3   Subbrand                            11786 non-null  object \n",
      " 4   Format                              8355 non-null   object \n",
      " 5   Promo Family Code                   13823 non-null  object \n",
      " 6   Units Per Case                      13889 non-null  int64  \n",
      " 7   US Size                             13889 non-null  object \n",
      " 8   CA Size                             13889 non-null  object \n",
      " 9   DU Description                      13889 non-null  object \n",
      " 10  Variant Product Description         13829 non-null  object \n",
      " 11  DU Number                           13889 non-null  object \n",
      " 12  Material Status                     13889 non-null  object \n",
      " 13  Unit UPC                            13889 non-null  object \n",
      " 14  Case UPC (UCC14)                    13889 non-null  int64  \n",
      " 15  Unit UPC (10)                       13889 non-null  int64  \n",
      " 16  Additional Pack Info                5028 non-null   object \n",
      " 17  Item Status Add                     6083 non-null   object \n",
      " 18  Item Status Add Hard Transition     1434 non-null   object \n",
      " 19  Item Status Current                 13888 non-null  object \n",
      " 20  Item Status Delete                  1335 non-null   object \n",
      " 21  Item Status Delete Hard Transition  156 non-null    float64\n",
      " 22  Item Status Soft Transition         746 non-null    object \n",
      " 23  Comments                            2050 non-null   object \n",
      " 24  FDTC                                13872 non-null  object \n",
      " 25  LDTC                                1520 non-null   object \n",
      " 26  Expected ACV                        329 non-null    object \n",
      " 27  Projected FY $NSV                   474 non-null    float64\n",
      " 28  Projected FY $POS                   338 non-null    float64\n",
      " 29  eCommerce - COTC by Channel         40 non-null     object \n",
      " 30  Hispanic - COTC by Channel          2 non-null      object \n",
      " 31  National - COTC by Channel          14 non-null     object \n",
      " 32  COTC By Channel                     1491 non-null   object \n",
      " 33  COTC Comments                       319 non-null    object \n",
      " 34  Case Price Brkt 1                   13774 non-null  float64\n",
      " 35  Unit Price  Brkt 1                  13780 non-null  float64\n",
      " 36  Price Valid From                    13749 non-null  object \n",
      " 37  Price Valid To                      13749 non-null  object \n",
      " 38  Unnamed: 38                         12 non-null     object \n",
      " 39  Unnamed: 39                         6 non-null      object \n",
      "dtypes: float64(5), int64(3), object(32)\n",
      "memory usage: 4.2+ MB\n"
     ]
    }
   ],
   "source": [
    "sku.info()"
   ]
  },
  {
   "cell_type": "code",
   "execution_count": 6,
   "id": "999660be",
   "metadata": {},
   "outputs": [],
   "source": [
    "sku.rename(columns={'Case UPC (UCC-14)': 'Case UPC (UCC14)'}, inplace=True)"
   ]
  },
  {
   "cell_type": "code",
   "execution_count": 13,
   "id": "84050ca1",
   "metadata": {},
   "outputs": [],
   "source": [
    "sku['Case UPC (UCC14)']=sku['Case UPC (UCC14)'].astype(str)\n",
    "sku['DU Number']=sku['DU Number'].astype(str)"
   ]
  },
  {
   "cell_type": "code",
   "execution_count": 14,
   "id": "ee8f9de9",
   "metadata": {},
   "outputs": [],
   "source": [
    "dis=pd.merge(sku, evr, how='left', on=['Case UPC (UCC14)', 'DU Number'])"
   ]
  },
  {
   "cell_type": "code",
   "execution_count": 16,
   "id": "bd8481c2",
   "metadata": {},
   "outputs": [
    {
     "data": {
      "text/plain": [
       "Index(['Geography', 'Small C', 'Brand', 'Subbrand', 'Format',\n",
       "       'Promo Family Code', 'Units Per Case', 'US Size', 'CA Size',\n",
       "       'DU Description_x', 'Variant Product Description', 'DU Number',\n",
       "       'Material Status', 'Unit UPC', 'Case UPC (UCC14)', 'Unit UPC (10)_x',\n",
       "       'Additional Pack Info', 'Item Status Add',\n",
       "       'Item Status Add Hard Transition', 'Item Status Current',\n",
       "       'Item Status Delete_x', 'Item Status Delete Hard Transition',\n",
       "       'Item Status Soft Transition', 'Comments', 'FDTC', 'LDTC_x',\n",
       "       'Expected ACV', 'Projected FY $NSV', 'Projected FY $POS',\n",
       "       'eCommerce - COTC by Channel', 'Hispanic - COTC by Channel',\n",
       "       'National - COTC by Channel', 'COTC By Channel', 'COTC Comments',\n",
       "       'Case Price Brkt 1', 'Unit Price  Brkt 1', 'Price Valid From',\n",
       "       'Price Valid To', 'Unnamed: 38', 'Unnamed: 39', 'Category',\n",
       "       'Case UPC (12)', 'Unit UPC (12)', 'Unit UPC (10)_y', 'DU Description_y',\n",
       "       'Item Status Delete_y', 'Item Status Delete (Hard Transition)',\n",
       "       'LDTC_y', 'SKU Master: SKM Code'],\n",
       "      dtype='object')"
      ]
     },
     "execution_count": 16,
     "metadata": {},
     "output_type": "execute_result"
    }
   ],
   "source": [
    "dis.columns"
   ]
  },
  {
   "cell_type": "code",
   "execution_count": 18,
   "id": "7e54edf9",
   "metadata": {},
   "outputs": [],
   "source": [
    "dis = dis[['Promo Family Code', 'DU Number', 'Material Status', 'Case UPC (UCC14)', 'LDTC_x', 'LDTC_y', 'SKU Master: SKM Code']]      "
   ]
  },
  {
   "cell_type": "code",
   "execution_count": 19,
   "id": "f28e32b2",
   "metadata": {},
   "outputs": [
    {
     "data": {
      "text/html": [
       "<div>\n",
       "<style scoped>\n",
       "    .dataframe tbody tr th:only-of-type {\n",
       "        vertical-align: middle;\n",
       "    }\n",
       "\n",
       "    .dataframe tbody tr th {\n",
       "        vertical-align: top;\n",
       "    }\n",
       "\n",
       "    .dataframe thead th {\n",
       "        text-align: right;\n",
       "    }\n",
       "</style>\n",
       "<table border=\"1\" class=\"dataframe\">\n",
       "  <thead>\n",
       "    <tr style=\"text-align: right;\">\n",
       "      <th></th>\n",
       "      <th>Promo Family Code</th>\n",
       "      <th>DU Number</th>\n",
       "      <th>Material Status</th>\n",
       "      <th>Case UPC (UCC14)</th>\n",
       "      <th>LDTC_x</th>\n",
       "      <th>LDTC_y</th>\n",
       "      <th>SKU Master: SKM Code</th>\n",
       "    </tr>\n",
       "  </thead>\n",
       "  <tbody>\n",
       "    <tr>\n",
       "      <th>0</th>\n",
       "      <td>01UA</td>\n",
       "      <td>68127037</td>\n",
       "      <td>20 - Active</td>\n",
       "      <td>10041000007955</td>\n",
       "      <td>NaN</td>\n",
       "      <td>NaT</td>\n",
       "      <td>NaN</td>\n",
       "    </tr>\n",
       "    <tr>\n",
       "      <th>1</th>\n",
       "      <td>01UA</td>\n",
       "      <td>68127037</td>\n",
       "      <td>20 - Active</td>\n",
       "      <td>10041000007955</td>\n",
       "      <td>NaN</td>\n",
       "      <td>NaT</td>\n",
       "      <td>NaN</td>\n",
       "    </tr>\n",
       "    <tr>\n",
       "      <th>2</th>\n",
       "      <td>01UA</td>\n",
       "      <td>68127037</td>\n",
       "      <td>20 - Active</td>\n",
       "      <td>10041000007955</td>\n",
       "      <td>NaN</td>\n",
       "      <td>NaT</td>\n",
       "      <td>NaN</td>\n",
       "    </tr>\n",
       "    <tr>\n",
       "      <th>3</th>\n",
       "      <td>01UA</td>\n",
       "      <td>68127037</td>\n",
       "      <td>20 - Active</td>\n",
       "      <td>10041000007955</td>\n",
       "      <td>NaN</td>\n",
       "      <td>NaT</td>\n",
       "      <td>NaN</td>\n",
       "    </tr>\n",
       "    <tr>\n",
       "      <th>4</th>\n",
       "      <td>01UA</td>\n",
       "      <td>68127039</td>\n",
       "      <td>32 - Discontinued</td>\n",
       "      <td>10041000007979</td>\n",
       "      <td>NaN</td>\n",
       "      <td>NaT</td>\n",
       "      <td>NaN</td>\n",
       "    </tr>\n",
       "    <tr>\n",
       "      <th>...</th>\n",
       "      <td>...</td>\n",
       "      <td>...</td>\n",
       "      <td>...</td>\n",
       "      <td>...</td>\n",
       "      <td>...</td>\n",
       "      <td>...</td>\n",
       "      <td>...</td>\n",
       "    </tr>\n",
       "    <tr>\n",
       "      <th>13884</th>\n",
       "      <td>09Z4</td>\n",
       "      <td>68123252</td>\n",
       "      <td>20 - Active</td>\n",
       "      <td>10076840002785</td>\n",
       "      <td>NaN</td>\n",
       "      <td>NaT</td>\n",
       "      <td>NaN</td>\n",
       "    </tr>\n",
       "    <tr>\n",
       "      <th>13885</th>\n",
       "      <td>09Z4</td>\n",
       "      <td>68123252</td>\n",
       "      <td>20 - Active</td>\n",
       "      <td>10076840002785</td>\n",
       "      <td>NaN</td>\n",
       "      <td>NaT</td>\n",
       "      <td>NaN</td>\n",
       "    </tr>\n",
       "    <tr>\n",
       "      <th>13886</th>\n",
       "      <td>09Z4</td>\n",
       "      <td>68123252</td>\n",
       "      <td>20 - Active</td>\n",
       "      <td>10076840002785</td>\n",
       "      <td>NaN</td>\n",
       "      <td>NaT</td>\n",
       "      <td>NaN</td>\n",
       "    </tr>\n",
       "    <tr>\n",
       "      <th>13887</th>\n",
       "      <td>03WX</td>\n",
       "      <td>68123017</td>\n",
       "      <td>32 - Discontinued</td>\n",
       "      <td>10048001481111</td>\n",
       "      <td>NaN</td>\n",
       "      <td>NaT</td>\n",
       "      <td>NaN</td>\n",
       "    </tr>\n",
       "    <tr>\n",
       "      <th>13888</th>\n",
       "      <td>03WX</td>\n",
       "      <td>68123017</td>\n",
       "      <td>32 - Discontinued</td>\n",
       "      <td>10048001481111</td>\n",
       "      <td>NaN</td>\n",
       "      <td>NaT</td>\n",
       "      <td>NaN</td>\n",
       "    </tr>\n",
       "  </tbody>\n",
       "</table>\n",
       "<p>13889 rows × 7 columns</p>\n",
       "</div>"
      ],
      "text/plain": [
       "      Promo Family Code DU Number    Material Status Case UPC (UCC14) LDTC_x  \\\n",
       "0                  01UA  68127037        20 - Active   10041000007955    NaN   \n",
       "1                  01UA  68127037        20 - Active   10041000007955    NaN   \n",
       "2                  01UA  68127037        20 - Active   10041000007955    NaN   \n",
       "3                  01UA  68127037        20 - Active   10041000007955    NaN   \n",
       "4                  01UA  68127039  32 - Discontinued   10041000007979    NaN   \n",
       "...                 ...       ...                ...              ...    ...   \n",
       "13884              09Z4  68123252        20 - Active   10076840002785    NaN   \n",
       "13885              09Z4  68123252        20 - Active   10076840002785    NaN   \n",
       "13886              09Z4  68123252        20 - Active   10076840002785    NaN   \n",
       "13887              03WX  68123017  32 - Discontinued   10048001481111    NaN   \n",
       "13888              03WX  68123017  32 - Discontinued   10048001481111    NaN   \n",
       "\n",
       "      LDTC_y SKU Master: SKM Code  \n",
       "0        NaT                  NaN  \n",
       "1        NaT                  NaN  \n",
       "2        NaT                  NaN  \n",
       "3        NaT                  NaN  \n",
       "4        NaT                  NaN  \n",
       "...      ...                  ...  \n",
       "13884    NaT                  NaN  \n",
       "13885    NaT                  NaN  \n",
       "13886    NaT                  NaN  \n",
       "13887    NaT                  NaN  \n",
       "13888    NaT                  NaN  \n",
       "\n",
       "[13889 rows x 7 columns]"
      ]
     },
     "execution_count": 19,
     "metadata": {},
     "output_type": "execute_result"
    }
   ],
   "source": [
    "dis"
   ]
  },
  {
   "cell_type": "code",
   "execution_count": 20,
   "id": "71d269df",
   "metadata": {},
   "outputs": [],
   "source": [
    "dis.to_csv('disco_files_match.csv', index=False)"
   ]
  }
 ],
 "metadata": {
  "kernelspec": {
   "display_name": "Python 3",
   "language": "python",
   "name": "python3"
  },
  "language_info": {
   "codemirror_mode": {
    "name": "ipython",
    "version": 3
   },
   "file_extension": ".py",
   "mimetype": "text/x-python",
   "name": "python",
   "nbconvert_exporter": "python",
   "pygments_lexer": "ipython3",
   "version": "3.8.8"
  }
 },
 "nbformat": 4,
 "nbformat_minor": 5
}
