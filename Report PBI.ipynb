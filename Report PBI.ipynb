{
 "cells": [
  {
   "cell_type": "code",
   "execution_count": 1,
   "metadata": {},
   "outputs": [],
   "source": [
    "import pandas as pd\n",
    "import numpy as np\n",
    "import pandas as pd\n",
    "import glob\n",
    "import matplotlib.pyplot as plt\n",
    "import zipfile\n",
    "import datetime\n",
    "import os"
   ]
  },
  {
   "cell_type": "code",
   "execution_count": 2,
   "metadata": {},
   "outputs": [
    {
     "name": "stderr",
     "output_type": "stream",
     "text": [
      "C:\\Users\\User\\anaconda3\\lib\\site-packages\\IPython\\core\\interactiveshell.py:3165: DtypeWarning: Columns (5) have mixed types.Specify dtype option on import or set low_memory=False.\n",
      "  has_raised = await self.run_ast_nodes(code_ast.body, cell_name,\n",
      "C:\\Users\\User\\anaconda3\\lib\\site-packages\\openpyxl\\styles\\stylesheet.py:221: UserWarning: Workbook contains no default style, apply openpyxl's default\n",
      "  warn(\"Workbook contains no default style, apply openpyxl's default\")\n",
      "C:\\Users\\User\\anaconda3\\lib\\site-packages\\IPython\\core\\interactiveshell.py:3165: DtypeWarning: Columns (1) have mixed types.Specify dtype option on import or set low_memory=False.\n",
      "  has_raised = await self.run_ast_nodes(code_ast.body, cell_name,\n",
      "C:\\Users\\User\\anaconda3\\lib\\site-packages\\IPython\\core\\interactiveshell.py:3165: DtypeWarning: Columns (2) have mixed types.Specify dtype option on import or set low_memory=False.\n",
      "  has_raised = await self.run_ast_nodes(code_ast.body, cell_name,\n",
      "C:\\Users\\User\\anaconda3\\lib\\site-packages\\IPython\\core\\interactiveshell.py:3165: DtypeWarning: Columns (0,3,12,13,14) have mixed types.Specify dtype option on import or set low_memory=False.\n",
      "  has_raised = await self.run_ast_nodes(code_ast.body, cell_name,\n"
     ]
    }
   ],
   "source": [
    "bl_old=pd.read_csv(r'C:\\Users\\User\\OneDrive - ООО «Эдвансд»\\for Power BI\\smoothened_total_forecast_ML141221.dat', sep='|')  \n",
    "bl_new=pd.read_csv(r'C:\\Users\\User\\OneDrive - ООО «Эдвансд»\\for Power BI\\smoothened_total_forecast_ML130122.dat', sep='|')\n",
    "df_sales=pd.read_csv('DOMO_UPC_SALES EXPORT.csv', dtype={'PA_DIRECT_CD': str})\n",
    "df_plans=pd.read_csv('DOMO_UPC_PLANS EXPORT.csv', dtype={'PAD':str, 'PAI':str})\n",
    "df_m=pd.read_excel('DHUB PH Extract.xlsx')"
   ]
  },
  {
   "cell_type": "code",
   "execution_count": 2,
   "metadata": {},
   "outputs": [
    {
     "name": "stderr",
     "output_type": "stream",
     "text": [
      "C:\\Users\\User\\anaconda3\\lib\\site-packages\\openpyxl\\styles\\stylesheet.py:221: UserWarning: Workbook contains no default style, apply openpyxl's default\n",
      "  warn(\"Workbook contains no default style, apply openpyxl's default\")\n",
      "C:\\Users\\User\\anaconda3\\lib\\site-packages\\IPython\\core\\interactiveshell.py:3165: DtypeWarning: Columns (3,12,13,14) have mixed types.Specify dtype option on import or set low_memory=False.\n",
      "  has_raised = await self.run_ast_nodes(code_ast.body, cell_name,\n"
     ]
    }
   ],
   "source": [
    "df_cust=pd.read_excel('DHUB CH Extract.xlsx', dtype={'CUST_ID_NR_CD':str, 'IND_ACCT_NR_CD':str})        \n",
    "df_temp2 = pd.read_csv('Report PBI.csv', dtype={'CUST_ID_NR_CD':str, 'IND_ACCT_NR_CD':str})"
   ]
  },
  {
   "cell_type": "markdown",
   "metadata": {},
   "source": [
    "## Baseline"
   ]
  },
  {
   "cell_type": "code",
   "execution_count": 3,
   "metadata": {},
   "outputs": [
    {
     "data": {
      "text/html": [
       "<div>\n",
       "<style scoped>\n",
       "    .dataframe tbody tr th:only-of-type {\n",
       "        vertical-align: middle;\n",
       "    }\n",
       "\n",
       "    .dataframe tbody tr th {\n",
       "        vertical-align: top;\n",
       "    }\n",
       "\n",
       "    .dataframe thead th {\n",
       "        text-align: right;\n",
       "    }\n",
       "</style>\n",
       "<table border=\"1\" class=\"dataframe\">\n",
       "  <thead>\n",
       "    <tr style=\"text-align: right;\">\n",
       "      <th></th>\n",
       "      <th>CUST_ID_NR_CD</th>\n",
       "      <th>IND_ACCT_NR_CD</th>\n",
       "      <th>PROMO_PLN_ID_NR_CD</th>\n",
       "      <th>PROMO_PLN_YR_CD</th>\n",
       "      <th>BRND_NR_CD</th>\n",
       "      <th>CS_UPC_NR_CD</th>\n",
       "      <th>CS_UPC_VRSN_NR_CD</th>\n",
       "      <th>WEEK_NR</th>\n",
       "      <th>SOURCE_CD</th>\n",
       "      <th>SUPPLEMENTAL_VOLUME_NR</th>\n",
       "      <th>CAT_NR_CD</th>\n",
       "      <th>FMLY_NR_CD</th>\n",
       "      <th>ACCT_PLAN_ID</th>\n",
       "      <th>DATE_LAST_UPDATED</th>\n",
       "      <th>DEL_IND</th>\n",
       "      <th>NSV_AMT</th>\n",
       "      <th>Unnamed: 16</th>\n",
       "    </tr>\n",
       "  </thead>\n",
       "  <tbody>\n",
       "    <tr>\n",
       "      <th>0</th>\n",
       "      <td>386</td>\n",
       "      <td>0</td>\n",
       "      <td>NaN</td>\n",
       "      <td>2022</td>\n",
       "      <td>NaN</td>\n",
       "      <td>7940044778</td>\n",
       "      <td>NaN</td>\n",
       "      <td>18</td>\n",
       "      <td>NaN</td>\n",
       "      <td>1.731852</td>\n",
       "      <td>NaN</td>\n",
       "      <td>NaN</td>\n",
       "      <td>NaN</td>\n",
       "      <td>NaN</td>\n",
       "      <td>NaN</td>\n",
       "      <td>NaN</td>\n",
       "      <td>NaN</td>\n",
       "    </tr>\n",
       "    <tr>\n",
       "      <th>1</th>\n",
       "      <td>386</td>\n",
       "      <td>0</td>\n",
       "      <td>NaN</td>\n",
       "      <td>2022</td>\n",
       "      <td>NaN</td>\n",
       "      <td>7940044778</td>\n",
       "      <td>NaN</td>\n",
       "      <td>19</td>\n",
       "      <td>NaN</td>\n",
       "      <td>4.819204</td>\n",
       "      <td>NaN</td>\n",
       "      <td>NaN</td>\n",
       "      <td>NaN</td>\n",
       "      <td>NaN</td>\n",
       "      <td>NaN</td>\n",
       "      <td>NaN</td>\n",
       "      <td>NaN</td>\n",
       "    </tr>\n",
       "    <tr>\n",
       "      <th>2</th>\n",
       "      <td>386</td>\n",
       "      <td>0</td>\n",
       "      <td>NaN</td>\n",
       "      <td>2022</td>\n",
       "      <td>NaN</td>\n",
       "      <td>7940044778</td>\n",
       "      <td>NaN</td>\n",
       "      <td>20</td>\n",
       "      <td>NaN</td>\n",
       "      <td>0.000000</td>\n",
       "      <td>NaN</td>\n",
       "      <td>NaN</td>\n",
       "      <td>NaN</td>\n",
       "      <td>NaN</td>\n",
       "      <td>NaN</td>\n",
       "      <td>NaN</td>\n",
       "      <td>NaN</td>\n",
       "    </tr>\n",
       "    <tr>\n",
       "      <th>3</th>\n",
       "      <td>386</td>\n",
       "      <td>0</td>\n",
       "      <td>NaN</td>\n",
       "      <td>2022</td>\n",
       "      <td>NaN</td>\n",
       "      <td>7940044778</td>\n",
       "      <td>NaN</td>\n",
       "      <td>21</td>\n",
       "      <td>NaN</td>\n",
       "      <td>0.981675</td>\n",
       "      <td>NaN</td>\n",
       "      <td>NaN</td>\n",
       "      <td>NaN</td>\n",
       "      <td>NaN</td>\n",
       "      <td>NaN</td>\n",
       "      <td>NaN</td>\n",
       "      <td>NaN</td>\n",
       "    </tr>\n",
       "    <tr>\n",
       "      <th>4</th>\n",
       "      <td>386</td>\n",
       "      <td>0</td>\n",
       "      <td>NaN</td>\n",
       "      <td>2022</td>\n",
       "      <td>NaN</td>\n",
       "      <td>7940044778</td>\n",
       "      <td>NaN</td>\n",
       "      <td>22</td>\n",
       "      <td>NaN</td>\n",
       "      <td>2.030436</td>\n",
       "      <td>NaN</td>\n",
       "      <td>NaN</td>\n",
       "      <td>NaN</td>\n",
       "      <td>NaN</td>\n",
       "      <td>NaN</td>\n",
       "      <td>NaN</td>\n",
       "      <td>NaN</td>\n",
       "    </tr>\n",
       "  </tbody>\n",
       "</table>\n",
       "</div>"
      ],
      "text/plain": [
       "   CUST_ID_NR_CD  IND_ACCT_NR_CD  PROMO_PLN_ID_NR_CD  PROMO_PLN_YR_CD  \\\n",
       "0            386               0                 NaN             2022   \n",
       "1            386               0                 NaN             2022   \n",
       "2            386               0                 NaN             2022   \n",
       "3            386               0                 NaN             2022   \n",
       "4            386               0                 NaN             2022   \n",
       "\n",
       "   BRND_NR_CD CS_UPC_NR_CD  CS_UPC_VRSN_NR_CD  WEEK_NR  SOURCE_CD  \\\n",
       "0         NaN   7940044778                NaN       18        NaN   \n",
       "1         NaN   7940044778                NaN       19        NaN   \n",
       "2         NaN   7940044778                NaN       20        NaN   \n",
       "3         NaN   7940044778                NaN       21        NaN   \n",
       "4         NaN   7940044778                NaN       22        NaN   \n",
       "\n",
       "   SUPPLEMENTAL_VOLUME_NR  CAT_NR_CD  FMLY_NR_CD  ACCT_PLAN_ID  \\\n",
       "0                1.731852        NaN         NaN           NaN   \n",
       "1                4.819204        NaN         NaN           NaN   \n",
       "2                0.000000        NaN         NaN           NaN   \n",
       "3                0.981675        NaN         NaN           NaN   \n",
       "4                2.030436        NaN         NaN           NaN   \n",
       "\n",
       "   DATE_LAST_UPDATED  DEL_IND  NSV_AMT  Unnamed: 16  \n",
       "0                NaN      NaN      NaN          NaN  \n",
       "1                NaN      NaN      NaN          NaN  \n",
       "2                NaN      NaN      NaN          NaN  \n",
       "3                NaN      NaN      NaN          NaN  \n",
       "4                NaN      NaN      NaN          NaN  "
      ]
     },
     "execution_count": 3,
     "metadata": {},
     "output_type": "execute_result"
    }
   ],
   "source": [
    "bl_new.head()"
   ]
  },
  {
   "cell_type": "code",
   "execution_count": 4,
   "metadata": {},
   "outputs": [],
   "source": [
    "bl_new.drop(columns=['PROMO_PLN_ID_NR_CD', 'BRND_NR_CD', 'CS_UPC_VRSN_NR_CD', 'SOURCE_CD', 'CAT_NR_CD', 'FMLY_NR_CD', 'ACCT_PLAN_ID', 'DEL_IND', 'NSV_AMT', 'Unnamed: 16', 'DATE_LAST_UPDATED'], inplace=True)\n",
    "bl_old.drop(columns=['PROMO_PLN_ID_NR_CD', 'BRND_NR_CD', 'CS_UPC_VRSN_NR_CD', 'SOURCE_CD', 'CAT_NR_CD', 'FMLY_NR_CD', 'ACCT_PLAN_ID', 'DEL_IND', 'NSV_AMT', 'Unnamed: 16', 'DATE_LAST_UPDATED'], inplace=True)"
   ]
  },
  {
   "cell_type": "code",
   "execution_count": 5,
   "metadata": {},
   "outputs": [],
   "source": [
    "bl_old.rename(columns={'SUPPLEMENTAL_VOLUME_NR': 'SUPPLEMENTAL_VOLUME_NR_old'}, inplace=True)"
   ]
  },
  {
   "cell_type": "code",
   "execution_count": 6,
   "metadata": {},
   "outputs": [
    {
     "data": {
      "text/plain": [
       "Index(['CUST_ID_NR_CD', 'IND_ACCT_NR_CD', 'PROMO_PLN_YR_CD', 'CS_UPC_NR_CD',\n",
       "       'WEEK_NR', 'SUPPLEMENTAL_VOLUME_NR_old'],\n",
       "      dtype='object')"
      ]
     },
     "execution_count": 6,
     "metadata": {},
     "output_type": "execute_result"
    }
   ],
   "source": [
    "bl_old.columns"
   ]
  },
  {
   "cell_type": "code",
   "execution_count": 7,
   "metadata": {},
   "outputs": [],
   "source": [
    "bl_new['CUST_ID_NR_CD']=bl_new['CUST_ID_NR_CD'].astype(str).str.zfill(6)\n",
    "bl_new['IND_ACCT_NR_CD']=bl_new['IND_ACCT_NR_CD'].astype(str).str.zfill(6)\n",
    "bl_new['CS_UPC_NR_CD']=bl_new['CS_UPC_NR_CD'].astype(str).str.zfill(12)\n",
    "bl_old['CUST_ID_NR_CD']=bl_old['CUST_ID_NR_CD'].astype(str).str.zfill(6)\n",
    "bl_old['IND_ACCT_NR_CD']=bl_old['IND_ACCT_NR_CD'].astype(str).str.zfill(6)\n",
    "bl_old['CS_UPC_NR_CD']=bl_old['CS_UPC_NR_CD'].astype(str).str.zfill(12)\n",
    "bl_new1=bl_new.groupby(['CUST_ID_NR_CD', 'IND_ACCT_NR_CD', 'PROMO_PLN_YR_CD', 'CS_UPC_NR_CD','WEEK_NR']).agg({'SUPPLEMENTAL_VOLUME_NR': 'sum'})\n",
    "bl_new1=bl_new1.reset_index()\n",
    "bl_old1=bl_old.groupby(['CUST_ID_NR_CD', 'IND_ACCT_NR_CD', 'PROMO_PLN_YR_CD', 'CS_UPC_NR_CD','WEEK_NR']).agg({'SUPPLEMENTAL_VOLUME_NR_old': 'sum'})\n",
    "bl_old1=bl_old1.reset_index()\n",
    "bl_new1=bl_new.groupby(['CUST_ID_NR_CD', 'IND_ACCT_NR_CD', 'PROMO_PLN_YR_CD', 'CS_UPC_NR_CD','WEEK_NR']).agg({'SUPPLEMENTAL_VOLUME_NR': 'sum'})\n",
    "\n",
    "bl_full_o=pd.merge(bl_new1, bl_old1, how='outer', on=['CUST_ID_NR_CD', 'IND_ACCT_NR_CD', 'PROMO_PLN_YR_CD', 'CS_UPC_NR_CD','WEEK_NR'])"
   ]
  },
  {
   "cell_type": "code",
   "execution_count": 8,
   "metadata": {},
   "outputs": [],
   "source": [
    "bl_full_o=bl_full_o.drop_duplicates()\n"
   ]
  },
  {
   "cell_type": "code",
   "execution_count": 9,
   "metadata": {},
   "outputs": [
    {
     "data": {
      "text/html": [
       "<div>\n",
       "<style scoped>\n",
       "    .dataframe tbody tr th:only-of-type {\n",
       "        vertical-align: middle;\n",
       "    }\n",
       "\n",
       "    .dataframe tbody tr th {\n",
       "        vertical-align: top;\n",
       "    }\n",
       "\n",
       "    .dataframe thead th {\n",
       "        text-align: right;\n",
       "    }\n",
       "</style>\n",
       "<table border=\"1\" class=\"dataframe\">\n",
       "  <thead>\n",
       "    <tr style=\"text-align: right;\">\n",
       "      <th></th>\n",
       "      <th>CUST_ID_NR_CD</th>\n",
       "      <th>IND_ACCT_NR_CD</th>\n",
       "      <th>PROMO_PLN_YR_CD</th>\n",
       "      <th>CS_UPC_NR_CD</th>\n",
       "      <th>WEEK_NR</th>\n",
       "      <th>SUPPLEMENTAL_VOLUME_NR</th>\n",
       "      <th>SUPPLEMENTAL_VOLUME_NR_old</th>\n",
       "    </tr>\n",
       "  </thead>\n",
       "  <tbody>\n",
       "  </tbody>\n",
       "</table>\n",
       "</div>"
      ],
      "text/plain": [
       "Empty DataFrame\n",
       "Columns: [CUST_ID_NR_CD, IND_ACCT_NR_CD, PROMO_PLN_YR_CD, CS_UPC_NR_CD, WEEK_NR, SUPPLEMENTAL_VOLUME_NR, SUPPLEMENTAL_VOLUME_NR_old]\n",
       "Index: []"
      ]
     },
     "execution_count": 9,
     "metadata": {},
     "output_type": "execute_result"
    }
   ],
   "source": [
    "bl_full_o[bl_full_o.duplicated()]"
   ]
  },
  {
   "cell_type": "code",
   "execution_count": 10,
   "metadata": {},
   "outputs": [
    {
     "data": {
      "text/html": [
       "<div>\n",
       "<style scoped>\n",
       "    .dataframe tbody tr th:only-of-type {\n",
       "        vertical-align: middle;\n",
       "    }\n",
       "\n",
       "    .dataframe tbody tr th {\n",
       "        vertical-align: top;\n",
       "    }\n",
       "\n",
       "    .dataframe thead th {\n",
       "        text-align: right;\n",
       "    }\n",
       "</style>\n",
       "<table border=\"1\" class=\"dataframe\">\n",
       "  <thead>\n",
       "    <tr style=\"text-align: right;\">\n",
       "      <th></th>\n",
       "      <th>CUST_ID_NR_CD</th>\n",
       "      <th>IND_ACCT_NR_CD</th>\n",
       "      <th>PROMO_PLN_YR_CD</th>\n",
       "      <th>CS_UPC_NR_CD</th>\n",
       "      <th>WEEK_NR</th>\n",
       "      <th>SUPPLEMENTAL_VOLUME_NR</th>\n",
       "      <th>SUPPLEMENTAL_VOLUME_NR_old</th>\n",
       "    </tr>\n",
       "  </thead>\n",
       "  <tbody>\n",
       "    <tr>\n",
       "      <th>0</th>\n",
       "      <td>000004</td>\n",
       "      <td>000000</td>\n",
       "      <td>2022</td>\n",
       "      <td>001111100120</td>\n",
       "      <td>2</td>\n",
       "      <td>0.0</td>\n",
       "      <td>22.837979</td>\n",
       "    </tr>\n",
       "    <tr>\n",
       "      <th>1</th>\n",
       "      <td>000004</td>\n",
       "      <td>000000</td>\n",
       "      <td>2022</td>\n",
       "      <td>001111100120</td>\n",
       "      <td>3</td>\n",
       "      <td>0.0</td>\n",
       "      <td>13.930047</td>\n",
       "    </tr>\n",
       "    <tr>\n",
       "      <th>2</th>\n",
       "      <td>000004</td>\n",
       "      <td>000000</td>\n",
       "      <td>2022</td>\n",
       "      <td>001111100120</td>\n",
       "      <td>4</td>\n",
       "      <td>0.0</td>\n",
       "      <td>12.818855</td>\n",
       "    </tr>\n",
       "    <tr>\n",
       "      <th>3</th>\n",
       "      <td>000004</td>\n",
       "      <td>000000</td>\n",
       "      <td>2022</td>\n",
       "      <td>001111100120</td>\n",
       "      <td>5</td>\n",
       "      <td>0.0</td>\n",
       "      <td>12.538084</td>\n",
       "    </tr>\n",
       "    <tr>\n",
       "      <th>4</th>\n",
       "      <td>000004</td>\n",
       "      <td>000000</td>\n",
       "      <td>2022</td>\n",
       "      <td>001111100120</td>\n",
       "      <td>6</td>\n",
       "      <td>0.0</td>\n",
       "      <td>12.538084</td>\n",
       "    </tr>\n",
       "  </tbody>\n",
       "</table>\n",
       "</div>"
      ],
      "text/plain": [
       "  CUST_ID_NR_CD IND_ACCT_NR_CD  PROMO_PLN_YR_CD  CS_UPC_NR_CD  WEEK_NR  \\\n",
       "0        000004         000000             2022  001111100120        2   \n",
       "1        000004         000000             2022  001111100120        3   \n",
       "2        000004         000000             2022  001111100120        4   \n",
       "3        000004         000000             2022  001111100120        5   \n",
       "4        000004         000000             2022  001111100120        6   \n",
       "\n",
       "   SUPPLEMENTAL_VOLUME_NR  SUPPLEMENTAL_VOLUME_NR_old  \n",
       "0                     0.0                   22.837979  \n",
       "1                     0.0                   13.930047  \n",
       "2                     0.0                   12.818855  \n",
       "3                     0.0                   12.538084  \n",
       "4                     0.0                   12.538084  "
      ]
     },
     "execution_count": 10,
     "metadata": {},
     "output_type": "execute_result"
    }
   ],
   "source": [
    "bl_full_o.head()"
   ]
  },
  {
   "cell_type": "code",
   "execution_count": 11,
   "metadata": {},
   "outputs": [],
   "source": [
    "# bl_old.drop(columns=['PROMO_PLN_ID_NR_CD', 'BRND_NR_CD', 'CS_UPC_VRSN_NR_CD', 'SOURCE_CD', 'CAT_NR_CD', 'FMLY_NR_CD', 'ACCT_PLAN_ID', 'DEL_IND', 'NSV_AMT', 'Unnamed: 16'], inplace=True)"
   ]
  },
  {
   "cell_type": "code",
   "execution_count": 12,
   "metadata": {},
   "outputs": [],
   "source": [
    "bl_full=bl_full_o.copy()"
   ]
  },
  {
   "cell_type": "code",
   "execution_count": 13,
   "metadata": {},
   "outputs": [],
   "source": [
    "bl_full['CS_UPC_NR_CD']=bl_full['CS_UPC_NR_CD'].astype(str).str.zfill(12)"
   ]
  },
  {
   "cell_type": "markdown",
   "metadata": {},
   "source": [
    "## Sales"
   ]
  },
  {
   "cell_type": "code",
   "execution_count": 14,
   "metadata": {},
   "outputs": [],
   "source": [
    "df_sales['WEEK1']=df_sales['WEEK'].str[1:]"
   ]
  },
  {
   "cell_type": "code",
   "execution_count": 15,
   "metadata": {},
   "outputs": [
    {
     "data": {
      "text/plain": [
       "array(['202147', '201930', '202016', '202019', '201906', '202049',\n",
       "       '201939', '201942', '202051', '201907', '201926', '201949',\n",
       "       '201904', '201905', '201902', '201903', '201908', '201909',\n",
       "       '201910', '201911', '201912', '201913', '201914', '201915',\n",
       "       '201916', '201917', '201918', '201919', '201920', '201921',\n",
       "       '201922', '201923', '201924', '201925', '201927', '201928',\n",
       "       '201929', '201931', '201932', '201933', '201934', '201935',\n",
       "       '201936', '201937', '201938', '201940', '201941', '201943',\n",
       "       '201944', '201945', '201946', '201947', '201948', '201950',\n",
       "       '201951', '201952', '202001', '202002', '202003', '202004',\n",
       "       '202005', '202006', '202007', '202008', '202009', '202010',\n",
       "       '202011', '202012', '202013', '202014', '202015', '202017',\n",
       "       '202018', '202020', '202021', '202022', '202023', '202024',\n",
       "       '202025', '202026', '202027', '202028', '202029', '202030',\n",
       "       '202031', '202032', '202033', '202034', '202035', '202036',\n",
       "       '202037', '202038', '202039', '202040', '202041', '202042',\n",
       "       '202043', '202044', '202045', '202046', '202047', '202048',\n",
       "       '202050', '202052', '202101', '202102', '202103', '202104',\n",
       "       '202105', '202106', '202107', '202108', '202109', '202110',\n",
       "       '202111', '202112', '202113', '202114', '202115', '202116',\n",
       "       '202117', '202118', '202119', '202120', '202121', '202122',\n",
       "       '202123', '202124', '202125', '202126', '202127', '202128',\n",
       "       '202129', '202130', '202131', '202132', '202133', '202134',\n",
       "       '202135', '202136', '202137', '202138', '202139', '202140',\n",
       "       '202141', '202142', '202143', '202144', '202145', '202146',\n",
       "       '202148', '202149', '202150', '202151', '202152', '202201',\n",
       "       '201901', nan], dtype=object)"
      ]
     },
     "execution_count": 15,
     "metadata": {},
     "output_type": "execute_result"
    }
   ],
   "source": [
    "df_sales['WEEK1'].unique()"
   ]
  },
  {
   "cell_type": "code",
   "execution_count": 16,
   "metadata": {},
   "outputs": [],
   "source": [
    "df_sales['CUST_ID_NR_CD'] = df_sales['PA_DIRECT_CD'].astype(str).str.zfill(6)\n",
    "df_sales['CS_UPC_NR_CD'] = df_sales['CASE_UPC'].astype(str).str.zfill(12)"
   ]
  },
  {
   "cell_type": "code",
   "execution_count": 17,
   "metadata": {},
   "outputs": [],
   "source": [
    "df_sales=df_sales[['CUST_ID_NR_CD', 'CS_UPC_NR_CD', 'WEEK', 'PHY_CS']]"
   ]
  },
  {
   "cell_type": "code",
   "execution_count": 18,
   "metadata": {},
   "outputs": [],
   "source": [
    "df_sales=df_sales[df_sales['WEEK'].notna()]"
   ]
  },
  {
   "cell_type": "code",
   "execution_count": 19,
   "metadata": {},
   "outputs": [],
   "source": [
    "df_sales=df_sales.replace({'CUST_ID_NR_CD': {'.0': ''}})"
   ]
  },
  {
   "cell_type": "code",
   "execution_count": 20,
   "metadata": {},
   "outputs": [],
   "source": [
    "df_sales['CUST_ID_NR_CD']=df_sales['CUST_ID_NR_CD'].str.zfill(6)"
   ]
  },
  {
   "cell_type": "code",
   "execution_count": 21,
   "metadata": {},
   "outputs": [
    {
     "data": {
      "text/html": [
       "<div>\n",
       "<style scoped>\n",
       "    .dataframe tbody tr th:only-of-type {\n",
       "        vertical-align: middle;\n",
       "    }\n",
       "\n",
       "    .dataframe tbody tr th {\n",
       "        vertical-align: top;\n",
       "    }\n",
       "\n",
       "    .dataframe thead th {\n",
       "        text-align: right;\n",
       "    }\n",
       "</style>\n",
       "<table border=\"1\" class=\"dataframe\">\n",
       "  <thead>\n",
       "    <tr style=\"text-align: right;\">\n",
       "      <th></th>\n",
       "      <th>CUST_ID_NR_CD</th>\n",
       "      <th>CS_UPC_NR_CD</th>\n",
       "      <th>WEEK</th>\n",
       "      <th>PHY_CS</th>\n",
       "    </tr>\n",
       "  </thead>\n",
       "  <tbody>\n",
       "    <tr>\n",
       "      <th>0</th>\n",
       "      <td>000668</td>\n",
       "      <td>007940008619</td>\n",
       "      <td>W202147</td>\n",
       "      <td>-0.042</td>\n",
       "    </tr>\n",
       "    <tr>\n",
       "      <th>1</th>\n",
       "      <td>000174</td>\n",
       "      <td>003750085930</td>\n",
       "      <td>W201930</td>\n",
       "      <td>-12.000</td>\n",
       "    </tr>\n",
       "    <tr>\n",
       "      <th>2</th>\n",
       "      <td>000253</td>\n",
       "      <td>003750000032</td>\n",
       "      <td>W202016</td>\n",
       "      <td>12.000</td>\n",
       "    </tr>\n",
       "    <tr>\n",
       "      <th>3</th>\n",
       "      <td>000253</td>\n",
       "      <td>003750000032</td>\n",
       "      <td>W202019</td>\n",
       "      <td>6.000</td>\n",
       "    </tr>\n",
       "    <tr>\n",
       "      <th>4</th>\n",
       "      <td>002701</td>\n",
       "      <td>003750000032</td>\n",
       "      <td>W201906</td>\n",
       "      <td>2.000</td>\n",
       "    </tr>\n",
       "  </tbody>\n",
       "</table>\n",
       "</div>"
      ],
      "text/plain": [
       "  CUST_ID_NR_CD  CS_UPC_NR_CD     WEEK  PHY_CS\n",
       "0        000668  007940008619  W202147  -0.042\n",
       "1        000174  003750085930  W201930 -12.000\n",
       "2        000253  003750000032  W202016  12.000\n",
       "3        000253  003750000032  W202019   6.000\n",
       "4        002701  003750000032  W201906   2.000"
      ]
     },
     "execution_count": 21,
     "metadata": {},
     "output_type": "execute_result"
    }
   ],
   "source": [
    "df_sales.head()"
   ]
  },
  {
   "cell_type": "code",
   "execution_count": 22,
   "metadata": {},
   "outputs": [],
   "source": [
    "df_sales['PROMO_PLN_YR_CD']=df_sales['WEEK'].str[1:5].astype(int)\n",
    "df_sales['WEEK_NR']=df_sales['WEEK'].str[5:].astype(int)"
   ]
  },
  {
   "cell_type": "code",
   "execution_count": 23,
   "metadata": {},
   "outputs": [],
   "source": [
    "df_sales['WEEK_NR']=df_sales['WEEK'].str[5:].astype(int)"
   ]
  },
  {
   "cell_type": "code",
   "execution_count": 24,
   "metadata": {},
   "outputs": [
    {
     "data": {
      "text/plain": [
       "Index(['CUST_ID_NR_CD', 'CS_UPC_NR_CD', 'WEEK', 'PHY_CS', 'PROMO_PLN_YR_CD',\n",
       "       'WEEK_NR'],\n",
       "      dtype='object')"
      ]
     },
     "execution_count": 24,
     "metadata": {},
     "output_type": "execute_result"
    }
   ],
   "source": [
    "df_sales.columns"
   ]
  },
  {
   "cell_type": "code",
   "execution_count": 25,
   "metadata": {},
   "outputs": [],
   "source": [
    "bl_full['WEEK_NR']=bl_full['WEEK_NR'].astype(int)"
   ]
  },
  {
   "cell_type": "code",
   "execution_count": 26,
   "metadata": {},
   "outputs": [],
   "source": [
    "bl_full['PROMO_PLN_YR_CD']=bl_full['PROMO_PLN_YR_CD'].astype(int)"
   ]
  },
  {
   "cell_type": "code",
   "execution_count": 27,
   "metadata": {},
   "outputs": [
    {
     "name": "stdout",
     "output_type": "stream",
     "text": [
      "1255340937.5447512\n",
      "1255340937.544748\n",
      "835559845.6102388\n",
      "835559845.6102388\n",
      "764207643.1957967\n",
      "764207643.1957967\n"
     ]
    }
   ],
   "source": [
    "df_temp=pd.merge(bl_full, df_sales, how='outer', on=['CUST_ID_NR_CD', 'CS_UPC_NR_CD', 'PROMO_PLN_YR_CD', 'WEEK_NR'])\n",
    "print(df_sales['PHY_CS'].sum())\n",
    "print(df_temp['PHY_CS'].sum())\n",
    "print(df_temp['SUPPLEMENTAL_VOLUME_NR_old'].sum())\n",
    "print(bl_full['SUPPLEMENTAL_VOLUME_NR_old'].sum())\n",
    "print(df_temp['SUPPLEMENTAL_VOLUME_NR'].sum())\n",
    "print(bl_full['SUPPLEMENTAL_VOLUME_NR'].sum())"
   ]
  },
  {
   "cell_type": "code",
   "execution_count": 28,
   "metadata": {},
   "outputs": [
    {
     "data": {
      "text/plain": [
       "array([2022, 2023, 2021, 2019, 2020], dtype=int64)"
      ]
     },
     "execution_count": 28,
     "metadata": {},
     "output_type": "execute_result"
    }
   ],
   "source": [
    "df_temp['PROMO_PLN_YR_CD'].unique()"
   ]
  },
  {
   "cell_type": "code",
   "execution_count": 29,
   "metadata": {},
   "outputs": [
    {
     "data": {
      "text/plain": [
       "array([2021, 2019, 2020, 2022])"
      ]
     },
     "execution_count": 29,
     "metadata": {},
     "output_type": "execute_result"
    }
   ],
   "source": [
    "df_sales['PROMO_PLN_YR_CD'].unique()"
   ]
  },
  {
   "cell_type": "code",
   "execution_count": 30,
   "metadata": {},
   "outputs": [],
   "source": [
    "df_temp['IND_ACCT_NR_CD']=df_temp['IND_ACCT_NR_CD'].fillna('000000')"
   ]
  },
  {
   "cell_type": "code",
   "execution_count": 31,
   "metadata": {},
   "outputs": [],
   "source": [
    "df_temp=df_temp[df_temp['IND_ACCT_NR_CD'].notna()]"
   ]
  },
  {
   "cell_type": "code",
   "execution_count": 32,
   "metadata": {},
   "outputs": [
    {
     "data": {
      "text/plain": [
       "array([2022, 2023, 2021, 2019, 2020], dtype=int64)"
      ]
     },
     "execution_count": 32,
     "metadata": {},
     "output_type": "execute_result"
    }
   ],
   "source": [
    "df_temp['PROMO_PLN_YR_CD'].unique()"
   ]
  },
  {
   "cell_type": "markdown",
   "metadata": {},
   "source": [
    "## Plans"
   ]
  },
  {
   "cell_type": "code",
   "execution_count": 33,
   "metadata": {},
   "outputs": [
    {
     "data": {
      "text/html": [
       "<div>\n",
       "<style scoped>\n",
       "    .dataframe tbody tr th:only-of-type {\n",
       "        vertical-align: middle;\n",
       "    }\n",
       "\n",
       "    .dataframe tbody tr th {\n",
       "        vertical-align: top;\n",
       "    }\n",
       "\n",
       "    .dataframe thead th {\n",
       "        text-align: right;\n",
       "    }\n",
       "</style>\n",
       "<table border=\"1\" class=\"dataframe\">\n",
       "  <thead>\n",
       "    <tr style=\"text-align: right;\">\n",
       "      <th></th>\n",
       "      <th>PAD</th>\n",
       "      <th>PAI</th>\n",
       "      <th>CASE_UPC</th>\n",
       "      <th>WEEK</th>\n",
       "      <th>PHY_CS</th>\n",
       "      <th>PLAN_UNSV</th>\n",
       "      <th>NSV_PRICE</th>\n",
       "    </tr>\n",
       "  </thead>\n",
       "  <tbody>\n",
       "    <tr>\n",
       "      <th>11264569</th>\n",
       "      <td>003475</td>\n",
       "      <td>000000</td>\n",
       "      <td>085055100596</td>\n",
       "      <td>W202248</td>\n",
       "      <td>0.0</td>\n",
       "      <td>0.00</td>\n",
       "      <td>25.25</td>\n",
       "    </tr>\n",
       "    <tr>\n",
       "      <th>11264570</th>\n",
       "      <td>003475</td>\n",
       "      <td>000000</td>\n",
       "      <td>085055100596</td>\n",
       "      <td>W202249</td>\n",
       "      <td>0.0</td>\n",
       "      <td>0.00</td>\n",
       "      <td>25.25</td>\n",
       "    </tr>\n",
       "    <tr>\n",
       "      <th>11264571</th>\n",
       "      <td>003475</td>\n",
       "      <td>000000</td>\n",
       "      <td>085055100596</td>\n",
       "      <td>W202250</td>\n",
       "      <td>0.0</td>\n",
       "      <td>0.00</td>\n",
       "      <td>25.25</td>\n",
       "    </tr>\n",
       "    <tr>\n",
       "      <th>11264572</th>\n",
       "      <td>003475</td>\n",
       "      <td>000000</td>\n",
       "      <td>085055100596</td>\n",
       "      <td>W202251</td>\n",
       "      <td>0.0</td>\n",
       "      <td>0.00</td>\n",
       "      <td>25.25</td>\n",
       "    </tr>\n",
       "    <tr>\n",
       "      <th>11264573</th>\n",
       "      <td>003475</td>\n",
       "      <td>000000</td>\n",
       "      <td>085055100596</td>\n",
       "      <td>W202252</td>\n",
       "      <td>1.0</td>\n",
       "      <td>25.25</td>\n",
       "      <td>25.25</td>\n",
       "    </tr>\n",
       "  </tbody>\n",
       "</table>\n",
       "</div>"
      ],
      "text/plain": [
       "             PAD     PAI      CASE_UPC     WEEK  PHY_CS  PLAN_UNSV  NSV_PRICE\n",
       "11264569  003475  000000  085055100596  W202248     0.0       0.00      25.25\n",
       "11264570  003475  000000  085055100596  W202249     0.0       0.00      25.25\n",
       "11264571  003475  000000  085055100596  W202250     0.0       0.00      25.25\n",
       "11264572  003475  000000  085055100596  W202251     0.0       0.00      25.25\n",
       "11264573  003475  000000  085055100596  W202252     1.0      25.25      25.25"
      ]
     },
     "execution_count": 33,
     "metadata": {},
     "output_type": "execute_result"
    }
   ],
   "source": [
    "df_plans.tail()"
   ]
  },
  {
   "cell_type": "code",
   "execution_count": 34,
   "metadata": {},
   "outputs": [],
   "source": [
    "df_plans['CUST_ID_NR_CD'] = df_plans['PAD'].astype(str).str.zfill(6)\n",
    "df_plans['CS_UPC_NR_CD'] = df_plans['CASE_UPC'].astype(str).str.zfill(12)\n",
    "df_plans['IND_ACCT_NR_CD']=df_plans['PAI'].astype(str).str.zfill(6)\n",
    "df_plans['PROMO_PLN_YR_CD']=df_plans['WEEK'].str[1:5]\n",
    "df_plans['WEEK_NR']=df_plans['WEEK'].str[5:]\n",
    "df_plans['WEEK_NR']=df_plans['WEEK_NR'].astype(int)\n",
    "l1=['2021', '2022']\n",
    "df_plans=df_plans[['CUST_ID_NR_CD', 'IND_ACCT_NR_CD', 'CS_UPC_NR_CD', 'PROMO_PLN_YR_CD', 'WEEK', 'WEEK_NR', 'PHY_CS']]\n",
    "df_plans.rename(columns={'PHY_CS':'PLANS'}, inplace=True)\n",
    "df_plans=df_plans[df_plans['PROMO_PLN_YR_CD'].isin(l1)]\n",
    "df_plans['PROMO_PLN_YR_CD']=df_plans['PROMO_PLN_YR_CD'].astype(int)\n",
    "# df_temp1=pd.merge(df_temp, df_plans, how='outer', on=['CUST_ID_NR_CD', 'IND_ACCT_NR_CD', 'CS_UPC_NR_CD', 'PROMO_PLN_YR_CD', 'WEEK_NR', 'PHY_CS'])"
   ]
  },
  {
   "cell_type": "code",
   "execution_count": 35,
   "metadata": {},
   "outputs": [],
   "source": [
    "df_plans['WEEK_NR']=df_plans['WEEK_NR'].astype(int)"
   ]
  },
  {
   "cell_type": "code",
   "execution_count": 36,
   "metadata": {},
   "outputs": [],
   "source": [
    "k1=df_plans[(df_plans['WEEK']>'W202145')&(df_plans['WEEK']<'W202148')]"
   ]
  },
  {
   "cell_type": "code",
   "execution_count": 37,
   "metadata": {},
   "outputs": [
    {
     "data": {
      "text/plain": [
       "0.0"
      ]
     },
     "execution_count": 37,
     "metadata": {},
     "output_type": "execute_result"
    }
   ],
   "source": [
    "k1['PLANS'].sum()"
   ]
  },
  {
   "cell_type": "code",
   "execution_count": 38,
   "metadata": {},
   "outputs": [],
   "source": [
    "# df_temp1=pd.merge(df_temp, df_plans, how='outer', on=['CUST_ID_NR_CD', 'IND_ACCT_NR_CD', 'CS_UPC_NR_CD', 'PROMO_PLN_YR_CD', 'WEEK_NR'])"
   ]
  },
  {
   "cell_type": "code",
   "execution_count": 39,
   "metadata": {},
   "outputs": [
    {
     "data": {
      "text/plain": [
       "array([ 2,  3,  4,  5,  6,  7,  8,  9, 10, 11, 12, 13, 14, 15, 16, 17, 18,\n",
       "       19, 20, 21, 22, 23, 24, 25, 26, 27, 28, 29, 30, 31, 32, 33, 34, 35,\n",
       "       36, 37, 38, 39, 40, 41, 42, 43, 44, 45, 46, 47, 48, 49, 50, 51, 52])"
      ]
     },
     "execution_count": 39,
     "metadata": {},
     "output_type": "execute_result"
    }
   ],
   "source": [
    "df_plans['WEEK_NR'].unique()"
   ]
  },
  {
   "cell_type": "code",
   "execution_count": 40,
   "metadata": {},
   "outputs": [],
   "source": [
    "# df_plans=df_plans[df_plans['PROMO_PLN_YR_CD'].isin(l1)]"
   ]
  },
  {
   "cell_type": "code",
   "execution_count": 41,
   "metadata": {},
   "outputs": [],
   "source": [
    " l1=['2021', '2022']\n",
    "# df_plans=df_plans[df_plans['PROMO_PLN_YR_CD'].isin(l1)]\n",
    "# df_plans['PROMO_PLN_YR_CD']=df_plans['PROMO_PLN_YR_CD'].astype(int)"
   ]
  },
  {
   "cell_type": "code",
   "execution_count": 42,
   "metadata": {},
   "outputs": [],
   "source": [
    "df_plans['PROMO_PLN_YR_CD']=df_plans['PROMO_PLN_YR_CD'].astype(int)\n",
    "df_plans['WEEK_NR']=df_plans['WEEK_NR'].astype(int)"
   ]
  },
  {
   "cell_type": "code",
   "execution_count": 43,
   "metadata": {},
   "outputs": [],
   "source": [
    "df_temp1=pd.merge(df_temp, df_plans, how='outer', on=['CUST_ID_NR_CD', 'IND_ACCT_NR_CD', 'CS_UPC_NR_CD', 'PROMO_PLN_YR_CD', 'WEEK_NR'])"
   ]
  },
  {
   "cell_type": "code",
   "execution_count": 44,
   "metadata": {},
   "outputs": [
    {
     "name": "stdout",
     "output_type": "stream",
     "text": [
      "379996959.5599994\n",
      "379996959.5599996\n"
     ]
    }
   ],
   "source": [
    "print(df_plans['PLANS'].sum())\n",
    "print(df_temp1['PLANS'].sum())"
   ]
  },
  {
   "cell_type": "code",
   "execution_count": 45,
   "metadata": {},
   "outputs": [
    {
     "data": {
      "text/plain": [
       "array([2022, 2023, 2021, 2019, 2020], dtype=int64)"
      ]
     },
     "execution_count": 45,
     "metadata": {},
     "output_type": "execute_result"
    }
   ],
   "source": [
    "df_temp1['PROMO_PLN_YR_CD'].unique()"
   ]
  },
  {
   "cell_type": "code",
   "execution_count": 46,
   "metadata": {},
   "outputs": [
    {
     "data": {
      "text/html": [
       "<div>\n",
       "<style scoped>\n",
       "    .dataframe tbody tr th:only-of-type {\n",
       "        vertical-align: middle;\n",
       "    }\n",
       "\n",
       "    .dataframe tbody tr th {\n",
       "        vertical-align: top;\n",
       "    }\n",
       "\n",
       "    .dataframe thead th {\n",
       "        text-align: right;\n",
       "    }\n",
       "</style>\n",
       "<table border=\"1\" class=\"dataframe\">\n",
       "  <thead>\n",
       "    <tr style=\"text-align: right;\">\n",
       "      <th></th>\n",
       "      <th>CUST_ID_NR_CD</th>\n",
       "      <th>IND_ACCT_NR_CD</th>\n",
       "      <th>PROMO_PLN_YR_CD</th>\n",
       "      <th>CS_UPC_NR_CD</th>\n",
       "      <th>WEEK_NR</th>\n",
       "      <th>SUPPLEMENTAL_VOLUME_NR</th>\n",
       "      <th>SUPPLEMENTAL_VOLUME_NR_old</th>\n",
       "      <th>WEEK_x</th>\n",
       "      <th>PHY_CS</th>\n",
       "      <th>WEEK_y</th>\n",
       "      <th>PLANS</th>\n",
       "    </tr>\n",
       "  </thead>\n",
       "  <tbody>\n",
       "    <tr>\n",
       "      <th>0</th>\n",
       "      <td>000004</td>\n",
       "      <td>000000</td>\n",
       "      <td>2022</td>\n",
       "      <td>001111100120</td>\n",
       "      <td>2</td>\n",
       "      <td>0.0</td>\n",
       "      <td>22.837979</td>\n",
       "      <td>NaN</td>\n",
       "      <td>NaN</td>\n",
       "      <td>W202202</td>\n",
       "      <td>0.0</td>\n",
       "    </tr>\n",
       "    <tr>\n",
       "      <th>1</th>\n",
       "      <td>000004</td>\n",
       "      <td>000000</td>\n",
       "      <td>2022</td>\n",
       "      <td>001111100120</td>\n",
       "      <td>3</td>\n",
       "      <td>0.0</td>\n",
       "      <td>13.930047</td>\n",
       "      <td>NaN</td>\n",
       "      <td>NaN</td>\n",
       "      <td>W202203</td>\n",
       "      <td>0.0</td>\n",
       "    </tr>\n",
       "    <tr>\n",
       "      <th>2</th>\n",
       "      <td>000004</td>\n",
       "      <td>000000</td>\n",
       "      <td>2022</td>\n",
       "      <td>001111100120</td>\n",
       "      <td>4</td>\n",
       "      <td>0.0</td>\n",
       "      <td>12.818855</td>\n",
       "      <td>NaN</td>\n",
       "      <td>NaN</td>\n",
       "      <td>W202204</td>\n",
       "      <td>0.0</td>\n",
       "    </tr>\n",
       "    <tr>\n",
       "      <th>3</th>\n",
       "      <td>000004</td>\n",
       "      <td>000000</td>\n",
       "      <td>2022</td>\n",
       "      <td>001111100120</td>\n",
       "      <td>5</td>\n",
       "      <td>0.0</td>\n",
       "      <td>12.538084</td>\n",
       "      <td>NaN</td>\n",
       "      <td>NaN</td>\n",
       "      <td>W202205</td>\n",
       "      <td>0.0</td>\n",
       "    </tr>\n",
       "    <tr>\n",
       "      <th>4</th>\n",
       "      <td>000004</td>\n",
       "      <td>000000</td>\n",
       "      <td>2022</td>\n",
       "      <td>001111100120</td>\n",
       "      <td>6</td>\n",
       "      <td>0.0</td>\n",
       "      <td>12.538084</td>\n",
       "      <td>NaN</td>\n",
       "      <td>NaN</td>\n",
       "      <td>W202206</td>\n",
       "      <td>0.0</td>\n",
       "    </tr>\n",
       "  </tbody>\n",
       "</table>\n",
       "</div>"
      ],
      "text/plain": [
       "  CUST_ID_NR_CD IND_ACCT_NR_CD  PROMO_PLN_YR_CD  CS_UPC_NR_CD  WEEK_NR  \\\n",
       "0        000004         000000             2022  001111100120        2   \n",
       "1        000004         000000             2022  001111100120        3   \n",
       "2        000004         000000             2022  001111100120        4   \n",
       "3        000004         000000             2022  001111100120        5   \n",
       "4        000004         000000             2022  001111100120        6   \n",
       "\n",
       "   SUPPLEMENTAL_VOLUME_NR  SUPPLEMENTAL_VOLUME_NR_old WEEK_x  PHY_CS   WEEK_y  \\\n",
       "0                     0.0                   22.837979    NaN     NaN  W202202   \n",
       "1                     0.0                   13.930047    NaN     NaN  W202203   \n",
       "2                     0.0                   12.818855    NaN     NaN  W202204   \n",
       "3                     0.0                   12.538084    NaN     NaN  W202205   \n",
       "4                     0.0                   12.538084    NaN     NaN  W202206   \n",
       "\n",
       "   PLANS  \n",
       "0    0.0  \n",
       "1    0.0  \n",
       "2    0.0  \n",
       "3    0.0  \n",
       "4    0.0  "
      ]
     },
     "execution_count": 46,
     "metadata": {},
     "output_type": "execute_result"
    }
   ],
   "source": [
    "df_temp1.head()"
   ]
  },
  {
   "cell_type": "code",
   "execution_count": 47,
   "metadata": {},
   "outputs": [],
   "source": [
    "df_temp1['G_WEEK']=df_temp1['PROMO_PLN_YR_CD'].astype(str)+\"-\"+df_temp1['WEEK_NR'].astype(str)"
   ]
  },
  {
   "cell_type": "code",
   "execution_count": 48,
   "metadata": {},
   "outputs": [],
   "source": [
    "# import datetime\n",
    "df_temp1['Date'] = pd.to_datetime(df_temp1['G_WEEK'].add('-1'), format='%Y-%W-%w')\n"
   ]
  },
  {
   "cell_type": "code",
   "execution_count": 49,
   "metadata": {},
   "outputs": [],
   "source": [
    "df_temp1['Quarter'] = df_temp1['Date'].dt.quarter"
   ]
  },
  {
   "cell_type": "code",
   "execution_count": 50,
   "metadata": {},
   "outputs": [
    {
     "data": {
      "text/html": [
       "<div>\n",
       "<style scoped>\n",
       "    .dataframe tbody tr th:only-of-type {\n",
       "        vertical-align: middle;\n",
       "    }\n",
       "\n",
       "    .dataframe tbody tr th {\n",
       "        vertical-align: top;\n",
       "    }\n",
       "\n",
       "    .dataframe thead th {\n",
       "        text-align: right;\n",
       "    }\n",
       "</style>\n",
       "<table border=\"1\" class=\"dataframe\">\n",
       "  <thead>\n",
       "    <tr style=\"text-align: right;\">\n",
       "      <th></th>\n",
       "      <th>CUST_ID_NR_CD</th>\n",
       "      <th>IND_ACCT_NR_CD</th>\n",
       "      <th>PROMO_PLN_YR_CD</th>\n",
       "      <th>CS_UPC_NR_CD</th>\n",
       "      <th>WEEK_NR</th>\n",
       "      <th>SUPPLEMENTAL_VOLUME_NR</th>\n",
       "      <th>SUPPLEMENTAL_VOLUME_NR_old</th>\n",
       "      <th>WEEK_x</th>\n",
       "      <th>PHY_CS</th>\n",
       "      <th>WEEK_y</th>\n",
       "      <th>PLANS</th>\n",
       "      <th>G_WEEK</th>\n",
       "      <th>Date</th>\n",
       "      <th>Quarter</th>\n",
       "    </tr>\n",
       "  </thead>\n",
       "  <tbody>\n",
       "    <tr>\n",
       "      <th>0</th>\n",
       "      <td>000004</td>\n",
       "      <td>000000</td>\n",
       "      <td>2022</td>\n",
       "      <td>001111100120</td>\n",
       "      <td>2</td>\n",
       "      <td>0.0</td>\n",
       "      <td>22.837979</td>\n",
       "      <td>NaN</td>\n",
       "      <td>NaN</td>\n",
       "      <td>W202202</td>\n",
       "      <td>0.0</td>\n",
       "      <td>2022-2</td>\n",
       "      <td>2022-01-10</td>\n",
       "      <td>1</td>\n",
       "    </tr>\n",
       "    <tr>\n",
       "      <th>1</th>\n",
       "      <td>000004</td>\n",
       "      <td>000000</td>\n",
       "      <td>2022</td>\n",
       "      <td>001111100120</td>\n",
       "      <td>3</td>\n",
       "      <td>0.0</td>\n",
       "      <td>13.930047</td>\n",
       "      <td>NaN</td>\n",
       "      <td>NaN</td>\n",
       "      <td>W202203</td>\n",
       "      <td>0.0</td>\n",
       "      <td>2022-3</td>\n",
       "      <td>2022-01-17</td>\n",
       "      <td>1</td>\n",
       "    </tr>\n",
       "    <tr>\n",
       "      <th>2</th>\n",
       "      <td>000004</td>\n",
       "      <td>000000</td>\n",
       "      <td>2022</td>\n",
       "      <td>001111100120</td>\n",
       "      <td>4</td>\n",
       "      <td>0.0</td>\n",
       "      <td>12.818855</td>\n",
       "      <td>NaN</td>\n",
       "      <td>NaN</td>\n",
       "      <td>W202204</td>\n",
       "      <td>0.0</td>\n",
       "      <td>2022-4</td>\n",
       "      <td>2022-01-24</td>\n",
       "      <td>1</td>\n",
       "    </tr>\n",
       "    <tr>\n",
       "      <th>3</th>\n",
       "      <td>000004</td>\n",
       "      <td>000000</td>\n",
       "      <td>2022</td>\n",
       "      <td>001111100120</td>\n",
       "      <td>5</td>\n",
       "      <td>0.0</td>\n",
       "      <td>12.538084</td>\n",
       "      <td>NaN</td>\n",
       "      <td>NaN</td>\n",
       "      <td>W202205</td>\n",
       "      <td>0.0</td>\n",
       "      <td>2022-5</td>\n",
       "      <td>2022-01-31</td>\n",
       "      <td>1</td>\n",
       "    </tr>\n",
       "    <tr>\n",
       "      <th>4</th>\n",
       "      <td>000004</td>\n",
       "      <td>000000</td>\n",
       "      <td>2022</td>\n",
       "      <td>001111100120</td>\n",
       "      <td>6</td>\n",
       "      <td>0.0</td>\n",
       "      <td>12.538084</td>\n",
       "      <td>NaN</td>\n",
       "      <td>NaN</td>\n",
       "      <td>W202206</td>\n",
       "      <td>0.0</td>\n",
       "      <td>2022-6</td>\n",
       "      <td>2022-02-07</td>\n",
       "      <td>1</td>\n",
       "    </tr>\n",
       "  </tbody>\n",
       "</table>\n",
       "</div>"
      ],
      "text/plain": [
       "  CUST_ID_NR_CD IND_ACCT_NR_CD  PROMO_PLN_YR_CD  CS_UPC_NR_CD  WEEK_NR  \\\n",
       "0        000004         000000             2022  001111100120        2   \n",
       "1        000004         000000             2022  001111100120        3   \n",
       "2        000004         000000             2022  001111100120        4   \n",
       "3        000004         000000             2022  001111100120        5   \n",
       "4        000004         000000             2022  001111100120        6   \n",
       "\n",
       "   SUPPLEMENTAL_VOLUME_NR  SUPPLEMENTAL_VOLUME_NR_old WEEK_x  PHY_CS   WEEK_y  \\\n",
       "0                     0.0                   22.837979    NaN     NaN  W202202   \n",
       "1                     0.0                   13.930047    NaN     NaN  W202203   \n",
       "2                     0.0                   12.818855    NaN     NaN  W202204   \n",
       "3                     0.0                   12.538084    NaN     NaN  W202205   \n",
       "4                     0.0                   12.538084    NaN     NaN  W202206   \n",
       "\n",
       "   PLANS  G_WEEK       Date  Quarter  \n",
       "0    0.0  2022-2 2022-01-10        1  \n",
       "1    0.0  2022-3 2022-01-17        1  \n",
       "2    0.0  2022-4 2022-01-24        1  \n",
       "3    0.0  2022-5 2022-01-31        1  \n",
       "4    0.0  2022-6 2022-02-07        1  "
      ]
     },
     "execution_count": 50,
     "metadata": {},
     "output_type": "execute_result"
    }
   ],
   "source": [
    "df_temp1.head()"
   ]
  },
  {
   "cell_type": "markdown",
   "metadata": {},
   "source": [
    "## Product hierarchy"
   ]
  },
  {
   "cell_type": "code",
   "execution_count": 51,
   "metadata": {},
   "outputs": [],
   "source": [
    "df_m=df_m[['Find CaseUPC', 'Category', 'Forecast Group', 'Find Forecast Group']]\n",
    "# df_m=df_m[['CS_UPC_NR_CD', 'Category', 'Forecast Group', 'Find Forecast Group']]"
   ]
  },
  {
   "cell_type": "code",
   "execution_count": 52,
   "metadata": {},
   "outputs": [],
   "source": [
    "df_m.rename(columns={'Find CaseUPC':'CS_UPC_NR_CD'}, inplace=True)"
   ]
  },
  {
   "cell_type": "code",
   "execution_count": 53,
   "metadata": {},
   "outputs": [],
   "source": [
    "df_temp1['IND_ACCT_NR_CD']=df_temp1['IND_ACCT_NR_CD'].astype(str).str.zfill(6)\n",
    "df_temp1['CS_UPC_NR_CD']=df_temp1['CS_UPC_NR_CD'].astype(str).str.zfill(12)"
   ]
  },
  {
   "cell_type": "code",
   "execution_count": 54,
   "metadata": {},
   "outputs": [],
   "source": [
    "df_temp2=pd.merge(df_temp1, df_m, how='left', on=['CS_UPC_NR_CD'])"
   ]
  },
  {
   "cell_type": "code",
   "execution_count": 55,
   "metadata": {},
   "outputs": [
    {
     "name": "stdout",
     "output_type": "stream",
     "text": [
      "379996959.5599996\n",
      "379996959.5599996\n"
     ]
    }
   ],
   "source": [
    "print(df_temp2['PLANS'].sum())\n",
    "print(df_temp1['PLANS'].sum())"
   ]
  },
  {
   "cell_type": "code",
   "execution_count": 56,
   "metadata": {},
   "outputs": [],
   "source": [
    "del df_temp2['WEEK_y']\n",
    "del df_temp2['WEEK_x']"
   ]
  },
  {
   "cell_type": "code",
   "execution_count": 65,
   "metadata": {},
   "outputs": [],
   "source": [
    "df_temp2['SUPPLEMENTAL_VOLUME_NR']=df_temp2['SUPPLEMENTAL_VOLUME_NR'].fillna(df_temp2['PHY_CS'])\n",
    "df_temp2['SUPPLEMENTAL_VOLUME_NR_old']=df_temp2['SUPPLEMENTAL_VOLUME_NR_old'].fillna(df_temp2['PHY_CS'])\n",
    "df_temp2['PLANS']=df_temp2['PLANS'].fillna(df_temp2['PHY_CS'])"
   ]
  },
  {
   "cell_type": "code",
   "execution_count": null,
   "metadata": {},
   "outputs": [],
   "source": [
    "df_temp2.to_csv('Report PBI.csv', index=False)"
   ]
  },
  {
   "cell_type": "markdown",
   "metadata": {},
   "source": [
    "## Client hierarchy"
   ]
  },
  {
   "cell_type": "code",
   "execution_count": 3,
   "metadata": {},
   "outputs": [],
   "source": [
    "df_cust=df_cust[['2.7 Planned Account with Indirect', 'CUST_ID_NR_CD', 'IND_ACCT_NR_CD', 'Customer Group', 'APG']]"
   ]
  },
  {
   "cell_type": "code",
   "execution_count": 4,
   "metadata": {},
   "outputs": [],
   "source": [
    "df_temp3=pd.merge(df_temp2, df_cust, how='left', on=['CUST_ID_NR_CD', 'IND_ACCT_NR_CD'])"
   ]
  },
  {
   "cell_type": "code",
   "execution_count": 5,
   "metadata": {},
   "outputs": [
    {
     "name": "stdout",
     "output_type": "stream",
     "text": [
      "<class 'pandas.core.frame.DataFrame'>\n",
      "RangeIndex: 19661599 entries, 0 to 19661598\n",
      "Data columns (total 15 columns):\n",
      " #   Column                      Dtype  \n",
      "---  ------                      -----  \n",
      " 0   CUST_ID_NR_CD               object \n",
      " 1   IND_ACCT_NR_CD              object \n",
      " 2   PROMO_PLN_YR_CD             int64  \n",
      " 3   CS_UPC_NR_CD                object \n",
      " 4   WEEK_NR                     int64  \n",
      " 5   SUPPLEMENTAL_VOLUME_NR      float64\n",
      " 6   SUPPLEMENTAL_VOLUME_NR_old  float64\n",
      " 7   PHY_CS                      float64\n",
      " 8   PLANS                       float64\n",
      " 9   G_WEEK                      object \n",
      " 10  Date                        object \n",
      " 11  Quarter                     int64  \n",
      " 12  Category                    object \n",
      " 13  Forecast Group              object \n",
      " 14  Find Forecast Group         object \n",
      "dtypes: float64(4), int64(3), object(8)\n",
      "memory usage: 2.2+ GB\n"
     ]
    }
   ],
   "source": [
    "df_temp2.info()"
   ]
  },
  {
   "cell_type": "code",
   "execution_count": 6,
   "metadata": {},
   "outputs": [],
   "source": [
    "df_temp3=df_temp3.fillna(0)"
   ]
  },
  {
   "cell_type": "code",
   "execution_count": 7,
   "metadata": {},
   "outputs": [],
   "source": [
    "df_temp3=df_temp3.drop_duplicates()"
   ]
  },
  {
   "cell_type": "code",
   "execution_count": 8,
   "metadata": {},
   "outputs": [
    {
     "data": {
      "text/plain": [
       "array([2022, 2023, 2021, 2019, 2020], dtype=int64)"
      ]
     },
     "execution_count": 8,
     "metadata": {},
     "output_type": "execute_result"
    }
   ],
   "source": [
    "df_temp3['PROMO_PLN_YR_CD'].unique()"
   ]
  },
  {
   "cell_type": "code",
   "execution_count": 9,
   "metadata": {},
   "outputs": [
    {
     "data": {
      "text/plain": [
       "Index(['CUST_ID_NR_CD', 'IND_ACCT_NR_CD', 'PROMO_PLN_YR_CD', 'CS_UPC_NR_CD',\n",
       "       'WEEK_NR', 'SUPPLEMENTAL_VOLUME_NR', 'SUPPLEMENTAL_VOLUME_NR_old',\n",
       "       'PHY_CS', 'PLANS', 'G_WEEK', 'Date', 'Quarter', 'Category',\n",
       "       'Forecast Group', 'Find Forecast Group',\n",
       "       '2.7 Planned Account with Indirect', 'Customer Group', 'APG'],\n",
       "      dtype='object')"
      ]
     },
     "execution_count": 9,
     "metadata": {},
     "output_type": "execute_result"
    }
   ],
   "source": [
    "df_temp3.columns"
   ]
  },
  {
   "cell_type": "code",
   "execution_count": 10,
   "metadata": {},
   "outputs": [],
   "source": [
    "df_temp3['Year-week']=df_temp3['PROMO_PLN_YR_CD'].astype(str)+\"-\"+df_temp3['WEEK_NR'].astype(str).str.zfill(2)"
   ]
  },
  {
   "cell_type": "code",
   "execution_count": 14,
   "metadata": {},
   "outputs": [],
   "source": [
    "df_temp3.to_csv('Report PBI.csv', index=False)"
   ]
  },
  {
   "cell_type": "code",
   "execution_count": 2,
   "metadata": {},
   "outputs": [
    {
     "name": "stderr",
     "output_type": "stream",
     "text": [
      "C:\\Users\\User\\anaconda3\\lib\\site-packages\\IPython\\core\\interactiveshell.py:3165: DtypeWarning: Columns (3,12,13,14) have mixed types.Specify dtype option on import or set low_memory=False.\n",
      "  has_raised = await self.run_ast_nodes(code_ast.body, cell_name,\n"
     ]
    }
   ],
   "source": [
    "invest=pd.read_csv('Input-promo-20220111.csv') \n",
    "df_temp3 = pd.read_csv('Report PBI.csv', dtype={'CUST_ID_NR_CD':str, 'IND_ACCT_NR_CD':str})"
   ]
  },
  {
   "cell_type": "markdown",
   "metadata": {},
   "source": [
    "## Promotions + dispatch rate"
   ]
  },
  {
   "cell_type": "code",
   "execution_count": 3,
   "metadata": {},
   "outputs": [],
   "source": [
    "del invest['Unnamed: 0']\n",
    "invest['UPC']=invest['UPC'].astype(str).str.zfill(12)\n",
    "invest=invest.fillna(0)\n",
    "invest['CUSTOMER']=invest['cpf'].str[:6]\n",
    "invest['PROMO_PLN_YR_CD']=invest['G_WEEK'].str[1:5].astype(int)\n",
    "invest['WEEK_NR']=invest['G_WEEK'].str[5:].astype(int)\n",
    "invest.rename(columns={'CUSTOMER':'CUST_ID_NR_CD', 'UPC': 'CS_UPC_NR_CD'}, inplace=True)\n",
    "del invest['cpf']\n",
    "df1=pd.merge(df_temp3, invest, how='left', on=['CUST_ID_NR_CD', 'CS_UPC_NR_CD', 'PROMO_PLN_YR_CD', 'WEEK_NR'])\n",
    "\n",
    "\n"
   ]
  },
  {
   "cell_type": "code",
   "execution_count": 4,
   "metadata": {},
   "outputs": [],
   "source": [
    "df1.to_csv('Report PBI.csv', index=False)"
   ]
  },
  {
   "cell_type": "code",
   "execution_count": 2,
   "metadata": {},
   "outputs": [
    {
     "name": "stderr",
     "output_type": "stream",
     "text": [
      "C:\\Users\\User\\anaconda3\\lib\\site-packages\\IPython\\core\\interactiveshell.py:3165: DtypeWarning: Columns (3,12,13,14,19) have mixed types.Specify dtype option on import or set low_memory=False.\n",
      "  has_raised = await self.run_ast_nodes(code_ast.body, cell_name,\n"
     ]
    }
   ],
   "source": [
    "dr=pd.read_csv('dispatch-rate-20220111.csv')\n",
    "df1 = pd.read_csv('Report PBI.csv', dtype={'CUST_ID_NR_CD':str, 'IND_ACCT_NR_CD':str})"
   ]
  },
  {
   "cell_type": "code",
   "execution_count": 4,
   "metadata": {},
   "outputs": [
    {
     "ename": "MemoryError",
     "evalue": "",
     "output_type": "error",
     "traceback": [
      "\u001b[1;31m---------------------------------------------------------------------------\u001b[0m",
      "\u001b[1;31mMemoryError\u001b[0m                               Traceback (most recent call last)",
      "\u001b[1;32m<ipython-input-4-a469a9570215>\u001b[0m in \u001b[0;36m<module>\u001b[1;34m\u001b[0m\n\u001b[1;32m----> 1\u001b[1;33m \u001b[0mdr\u001b[0m\u001b[1;33m[\u001b[0m\u001b[1;34m'CUST_ID_NR_CD'\u001b[0m\u001b[1;33m]\u001b[0m\u001b[1;33m=\u001b[0m\u001b[0mdr\u001b[0m\u001b[1;33m[\u001b[0m\u001b[1;34m'CUSTOMER'\u001b[0m\u001b[1;33m]\u001b[0m\u001b[1;33m.\u001b[0m\u001b[0mastype\u001b[0m\u001b[1;33m(\u001b[0m\u001b[0mstr\u001b[0m\u001b[1;33m)\u001b[0m\u001b[1;33m.\u001b[0m\u001b[0mstr\u001b[0m\u001b[1;33m.\u001b[0m\u001b[0mzfill\u001b[0m\u001b[1;33m(\u001b[0m\u001b[1;36m6\u001b[0m\u001b[1;33m)\u001b[0m\u001b[1;33m\u001b[0m\u001b[1;33m\u001b[0m\u001b[0m\n\u001b[0m\u001b[0;32m      2\u001b[0m \u001b[0mdr\u001b[0m\u001b[1;33m[\u001b[0m\u001b[1;34m'CS_UPC_NR_CD'\u001b[0m\u001b[1;33m]\u001b[0m\u001b[1;33m=\u001b[0m\u001b[0mdr\u001b[0m\u001b[1;33m[\u001b[0m\u001b[1;34m'UPC'\u001b[0m\u001b[1;33m]\u001b[0m\u001b[1;33m\u001b[0m\u001b[1;33m\u001b[0m\u001b[0m\n\u001b[0;32m      3\u001b[0m \u001b[0mdr\u001b[0m\u001b[1;33m[\u001b[0m\u001b[1;34m'PROMO_PLN_YR_CD'\u001b[0m\u001b[1;33m]\u001b[0m\u001b[1;33m=\u001b[0m\u001b[0mdr\u001b[0m\u001b[1;33m[\u001b[0m\u001b[1;34m'G_WEEK'\u001b[0m\u001b[1;33m]\u001b[0m\u001b[1;33m.\u001b[0m\u001b[0mstr\u001b[0m\u001b[1;33m[\u001b[0m\u001b[1;36m1\u001b[0m\u001b[1;33m:\u001b[0m\u001b[1;36m5\u001b[0m\u001b[1;33m]\u001b[0m\u001b[1;33m.\u001b[0m\u001b[0mastype\u001b[0m\u001b[1;33m(\u001b[0m\u001b[0mint\u001b[0m\u001b[1;33m)\u001b[0m\u001b[1;33m\u001b[0m\u001b[1;33m\u001b[0m\u001b[0m\n\u001b[0;32m      4\u001b[0m \u001b[0mdr\u001b[0m\u001b[1;33m[\u001b[0m\u001b[1;34m'WEEK_NR'\u001b[0m\u001b[1;33m]\u001b[0m\u001b[1;33m=\u001b[0m\u001b[0mdr\u001b[0m\u001b[1;33m[\u001b[0m\u001b[1;34m'G_WEEK'\u001b[0m\u001b[1;33m]\u001b[0m\u001b[1;33m.\u001b[0m\u001b[0mstr\u001b[0m\u001b[1;33m[\u001b[0m\u001b[1;36m5\u001b[0m\u001b[1;33m:\u001b[0m\u001b[1;33m]\u001b[0m\u001b[1;33m.\u001b[0m\u001b[0mastype\u001b[0m\u001b[1;33m(\u001b[0m\u001b[0mint\u001b[0m\u001b[1;33m)\u001b[0m\u001b[1;33m\u001b[0m\u001b[1;33m\u001b[0m\u001b[0m\n\u001b[0;32m      5\u001b[0m \u001b[0mdr\u001b[0m\u001b[1;33m=\u001b[0m\u001b[0mdr\u001b[0m\u001b[1;33m[\u001b[0m\u001b[1;33m[\u001b[0m\u001b[1;34m'CS_UPC_NR_CD'\u001b[0m\u001b[1;33m,\u001b[0m \u001b[1;34m'CUST_ID_NR_CD'\u001b[0m\u001b[1;33m,\u001b[0m \u001b[1;34m'PROMO_PLN_YR_CD'\u001b[0m\u001b[1;33m,\u001b[0m \u001b[1;34m'WEEK_NR'\u001b[0m\u001b[1;33m,\u001b[0m \u001b[1;34m'Orders'\u001b[0m\u001b[1;33m,\u001b[0m \u001b[1;34m'Losses'\u001b[0m\u001b[1;33m]\u001b[0m\u001b[1;33m]\u001b[0m\u001b[1;33m\u001b[0m\u001b[1;33m\u001b[0m\u001b[0m\n",
      "\u001b[1;32m~\\anaconda3\\lib\\site-packages\\pandas\\core\\generic.py\u001b[0m in \u001b[0;36mastype\u001b[1;34m(self, dtype, copy, errors)\u001b[0m\n\u001b[0;32m   5875\u001b[0m         \u001b[1;32melse\u001b[0m\u001b[1;33m:\u001b[0m\u001b[1;33m\u001b[0m\u001b[1;33m\u001b[0m\u001b[0m\n\u001b[0;32m   5876\u001b[0m             \u001b[1;31m# else, only a single dtype is given\u001b[0m\u001b[1;33m\u001b[0m\u001b[1;33m\u001b[0m\u001b[1;33m\u001b[0m\u001b[0m\n\u001b[1;32m-> 5877\u001b[1;33m             \u001b[0mnew_data\u001b[0m \u001b[1;33m=\u001b[0m \u001b[0mself\u001b[0m\u001b[1;33m.\u001b[0m\u001b[0m_mgr\u001b[0m\u001b[1;33m.\u001b[0m\u001b[0mastype\u001b[0m\u001b[1;33m(\u001b[0m\u001b[0mdtype\u001b[0m\u001b[1;33m=\u001b[0m\u001b[0mdtype\u001b[0m\u001b[1;33m,\u001b[0m \u001b[0mcopy\u001b[0m\u001b[1;33m=\u001b[0m\u001b[0mcopy\u001b[0m\u001b[1;33m,\u001b[0m \u001b[0merrors\u001b[0m\u001b[1;33m=\u001b[0m\u001b[0merrors\u001b[0m\u001b[1;33m)\u001b[0m\u001b[1;33m\u001b[0m\u001b[1;33m\u001b[0m\u001b[0m\n\u001b[0m\u001b[0;32m   5878\u001b[0m             \u001b[1;32mreturn\u001b[0m \u001b[0mself\u001b[0m\u001b[1;33m.\u001b[0m\u001b[0m_constructor\u001b[0m\u001b[1;33m(\u001b[0m\u001b[0mnew_data\u001b[0m\u001b[1;33m)\u001b[0m\u001b[1;33m.\u001b[0m\u001b[0m__finalize__\u001b[0m\u001b[1;33m(\u001b[0m\u001b[0mself\u001b[0m\u001b[1;33m,\u001b[0m \u001b[0mmethod\u001b[0m\u001b[1;33m=\u001b[0m\u001b[1;34m\"astype\"\u001b[0m\u001b[1;33m)\u001b[0m\u001b[1;33m\u001b[0m\u001b[1;33m\u001b[0m\u001b[0m\n\u001b[0;32m   5879\u001b[0m \u001b[1;33m\u001b[0m\u001b[0m\n",
      "\u001b[1;32m~\\anaconda3\\lib\\site-packages\\pandas\\core\\internals\\managers.py\u001b[0m in \u001b[0;36mastype\u001b[1;34m(self, dtype, copy, errors)\u001b[0m\n\u001b[0;32m    629\u001b[0m         \u001b[0mself\u001b[0m\u001b[1;33m,\u001b[0m \u001b[0mdtype\u001b[0m\u001b[1;33m,\u001b[0m \u001b[0mcopy\u001b[0m\u001b[1;33m:\u001b[0m \u001b[0mbool\u001b[0m \u001b[1;33m=\u001b[0m \u001b[1;32mFalse\u001b[0m\u001b[1;33m,\u001b[0m \u001b[0merrors\u001b[0m\u001b[1;33m:\u001b[0m \u001b[0mstr\u001b[0m \u001b[1;33m=\u001b[0m \u001b[1;34m\"raise\"\u001b[0m\u001b[1;33m\u001b[0m\u001b[1;33m\u001b[0m\u001b[0m\n\u001b[0;32m    630\u001b[0m     ) -> \"BlockManager\":\n\u001b[1;32m--> 631\u001b[1;33m         \u001b[1;32mreturn\u001b[0m \u001b[0mself\u001b[0m\u001b[1;33m.\u001b[0m\u001b[0mapply\u001b[0m\u001b[1;33m(\u001b[0m\u001b[1;34m\"astype\"\u001b[0m\u001b[1;33m,\u001b[0m \u001b[0mdtype\u001b[0m\u001b[1;33m=\u001b[0m\u001b[0mdtype\u001b[0m\u001b[1;33m,\u001b[0m \u001b[0mcopy\u001b[0m\u001b[1;33m=\u001b[0m\u001b[0mcopy\u001b[0m\u001b[1;33m,\u001b[0m \u001b[0merrors\u001b[0m\u001b[1;33m=\u001b[0m\u001b[0merrors\u001b[0m\u001b[1;33m)\u001b[0m\u001b[1;33m\u001b[0m\u001b[1;33m\u001b[0m\u001b[0m\n\u001b[0m\u001b[0;32m    632\u001b[0m \u001b[1;33m\u001b[0m\u001b[0m\n\u001b[0;32m    633\u001b[0m     def convert(\n",
      "\u001b[1;32m~\\anaconda3\\lib\\site-packages\\pandas\\core\\internals\\managers.py\u001b[0m in \u001b[0;36mapply\u001b[1;34m(self, f, align_keys, ignore_failures, **kwargs)\u001b[0m\n\u001b[0;32m    425\u001b[0m                     \u001b[0mapplied\u001b[0m \u001b[1;33m=\u001b[0m \u001b[0mb\u001b[0m\u001b[1;33m.\u001b[0m\u001b[0mapply\u001b[0m\u001b[1;33m(\u001b[0m\u001b[0mf\u001b[0m\u001b[1;33m,\u001b[0m \u001b[1;33m**\u001b[0m\u001b[0mkwargs\u001b[0m\u001b[1;33m)\u001b[0m\u001b[1;33m\u001b[0m\u001b[1;33m\u001b[0m\u001b[0m\n\u001b[0;32m    426\u001b[0m                 \u001b[1;32melse\u001b[0m\u001b[1;33m:\u001b[0m\u001b[1;33m\u001b[0m\u001b[1;33m\u001b[0m\u001b[0m\n\u001b[1;32m--> 427\u001b[1;33m                     \u001b[0mapplied\u001b[0m \u001b[1;33m=\u001b[0m \u001b[0mgetattr\u001b[0m\u001b[1;33m(\u001b[0m\u001b[0mb\u001b[0m\u001b[1;33m,\u001b[0m \u001b[0mf\u001b[0m\u001b[1;33m)\u001b[0m\u001b[1;33m(\u001b[0m\u001b[1;33m**\u001b[0m\u001b[0mkwargs\u001b[0m\u001b[1;33m)\u001b[0m\u001b[1;33m\u001b[0m\u001b[1;33m\u001b[0m\u001b[0m\n\u001b[0m\u001b[0;32m    428\u001b[0m             \u001b[1;32mexcept\u001b[0m \u001b[1;33m(\u001b[0m\u001b[0mTypeError\u001b[0m\u001b[1;33m,\u001b[0m \u001b[0mNotImplementedError\u001b[0m\u001b[1;33m)\u001b[0m\u001b[1;33m:\u001b[0m\u001b[1;33m\u001b[0m\u001b[1;33m\u001b[0m\u001b[0m\n\u001b[0;32m    429\u001b[0m                 \u001b[1;32mif\u001b[0m \u001b[1;32mnot\u001b[0m \u001b[0mignore_failures\u001b[0m\u001b[1;33m:\u001b[0m\u001b[1;33m\u001b[0m\u001b[1;33m\u001b[0m\u001b[0m\n",
      "\u001b[1;32m~\\anaconda3\\lib\\site-packages\\pandas\\core\\internals\\blocks.py\u001b[0m in \u001b[0;36mastype\u001b[1;34m(self, dtype, copy, errors)\u001b[0m\n\u001b[0;32m    671\u001b[0m             \u001b[0mvals1d\u001b[0m \u001b[1;33m=\u001b[0m \u001b[0mvalues\u001b[0m\u001b[1;33m.\u001b[0m\u001b[0mravel\u001b[0m\u001b[1;33m(\u001b[0m\u001b[1;33m)\u001b[0m\u001b[1;33m\u001b[0m\u001b[1;33m\u001b[0m\u001b[0m\n\u001b[0;32m    672\u001b[0m             \u001b[1;32mtry\u001b[0m\u001b[1;33m:\u001b[0m\u001b[1;33m\u001b[0m\u001b[1;33m\u001b[0m\u001b[0m\n\u001b[1;32m--> 673\u001b[1;33m                 \u001b[0mvalues\u001b[0m \u001b[1;33m=\u001b[0m \u001b[0mastype_nansafe\u001b[0m\u001b[1;33m(\u001b[0m\u001b[0mvals1d\u001b[0m\u001b[1;33m,\u001b[0m \u001b[0mdtype\u001b[0m\u001b[1;33m,\u001b[0m \u001b[0mcopy\u001b[0m\u001b[1;33m=\u001b[0m\u001b[1;32mTrue\u001b[0m\u001b[1;33m)\u001b[0m\u001b[1;33m\u001b[0m\u001b[1;33m\u001b[0m\u001b[0m\n\u001b[0m\u001b[0;32m    674\u001b[0m             \u001b[1;32mexcept\u001b[0m \u001b[1;33m(\u001b[0m\u001b[0mValueError\u001b[0m\u001b[1;33m,\u001b[0m \u001b[0mTypeError\u001b[0m\u001b[1;33m)\u001b[0m\u001b[1;33m:\u001b[0m\u001b[1;33m\u001b[0m\u001b[1;33m\u001b[0m\u001b[0m\n\u001b[0;32m    675\u001b[0m                 \u001b[1;31m# e.g. astype_nansafe can fail on object-dtype of strings\u001b[0m\u001b[1;33m\u001b[0m\u001b[1;33m\u001b[0m\u001b[1;33m\u001b[0m\u001b[0m\n",
      "\u001b[1;32m~\\anaconda3\\lib\\site-packages\\pandas\\core\\dtypes\\cast.py\u001b[0m in \u001b[0;36mastype_nansafe\u001b[1;34m(arr, dtype, copy, skipna)\u001b[0m\n\u001b[0;32m   1023\u001b[0m \u001b[1;33m\u001b[0m\u001b[0m\n\u001b[0;32m   1024\u001b[0m     \u001b[1;32mif\u001b[0m \u001b[0missubclass\u001b[0m\u001b[1;33m(\u001b[0m\u001b[0mdtype\u001b[0m\u001b[1;33m.\u001b[0m\u001b[0mtype\u001b[0m\u001b[1;33m,\u001b[0m \u001b[0mstr\u001b[0m\u001b[1;33m)\u001b[0m\u001b[1;33m:\u001b[0m\u001b[1;33m\u001b[0m\u001b[1;33m\u001b[0m\u001b[0m\n\u001b[1;32m-> 1025\u001b[1;33m         return lib.ensure_string_array(\n\u001b[0m\u001b[0;32m   1026\u001b[0m             \u001b[0marr\u001b[0m\u001b[1;33m.\u001b[0m\u001b[0mravel\u001b[0m\u001b[1;33m(\u001b[0m\u001b[1;33m)\u001b[0m\u001b[1;33m,\u001b[0m \u001b[0mskipna\u001b[0m\u001b[1;33m=\u001b[0m\u001b[0mskipna\u001b[0m\u001b[1;33m,\u001b[0m \u001b[0mconvert_na_value\u001b[0m\u001b[1;33m=\u001b[0m\u001b[1;32mFalse\u001b[0m\u001b[1;33m\u001b[0m\u001b[1;33m\u001b[0m\u001b[0m\n\u001b[0;32m   1027\u001b[0m         ).reshape(arr.shape)\n",
      "\u001b[1;32mpandas\\_libs\\lib.pyx\u001b[0m in \u001b[0;36mpandas._libs.lib.ensure_string_array\u001b[1;34m()\u001b[0m\n",
      "\u001b[1;32mpandas\\_libs\\lib.pyx\u001b[0m in \u001b[0;36mpandas._libs.lib.ensure_string_array\u001b[1;34m()\u001b[0m\n",
      "\u001b[1;31mMemoryError\u001b[0m: "
     ]
    }
   ],
   "source": [
    "dr['CUST_ID_NR_CD']=dr['CUSTOMER'].astype(str).str.zfill(6)\n",
    "dr['CS_UPC_NR_CD']=dr['UPC']\n",
    "dr['PROMO_PLN_YR_CD']=dr['G_WEEK'].str[1:5].astype(int)\n",
    "dr['WEEK_NR']=dr['G_WEEK'].str[5:].astype(int)\n",
    "dr=dr[['CS_UPC_NR_CD', 'CUST_ID_NR_CD', 'PROMO_PLN_YR_CD', 'WEEK_NR', 'Orders', 'Losses']]\n",
    "df3=pd.merge(df1, dr, how='left')\n"
   ]
  },
  {
   "cell_type": "code",
   "execution_count": null,
   "metadata": {},
   "outputs": [],
   "source": [
    "df3.to_csv('Report PBI.csv', index=False)"
   ]
  },
  {
   "cell_type": "code",
   "execution_count": null,
   "metadata": {},
   "outputs": [],
   "source": [
    "df3 = pd.read_csv('Report PBI.csv', dtype={'CUST_ID_NR_CD':str, 'IND_ACCT_NR_CD':str})"
   ]
  },
  {
   "cell_type": "code",
   "execution_count": null,
   "metadata": {},
   "outputs": [],
   "source": [
    "df3=df3.fillna(0)\n",
    "df3['dr']=1+df3['Losses']/df3['Orders']\n",
    "del df3['G_WEEK_y']\n",
    "df3.rename(columns={'G_WEEK_x': 'G_WEEK'}, inplace=True)"
   ]
  },
  {
   "cell_type": "code",
   "execution_count": null,
   "metadata": {},
   "outputs": [],
   "source": [
    "df3.to_csv('Report-compare-drp.csv', index=False)"
   ]
  }
 ],
 "metadata": {
  "interpreter": {
   "hash": "ed225720166559e7176d3793db16a2fd8d295f725007103b21ac3099d2a89ee8"
  },
  "kernelspec": {
   "display_name": "Python 3",
   "language": "python",
   "name": "python3"
  },
  "language_info": {
   "codemirror_mode": {
    "name": "ipython",
    "version": 3
   },
   "file_extension": ".py",
   "mimetype": "text/x-python",
   "name": "python",
   "nbconvert_exporter": "python",
   "pygments_lexer": "ipython3",
   "version": "3.8.8"
  }
 },
 "nbformat": 4,
 "nbformat_minor": 4
}
