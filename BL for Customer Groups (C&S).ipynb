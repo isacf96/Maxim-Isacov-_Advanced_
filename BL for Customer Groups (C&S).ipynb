{
 "cells": [
  {
   "cell_type": "code",
   "execution_count": 1,
   "id": "177a54fc",
   "metadata": {},
   "outputs": [],
   "source": [
    "import pandas as pd\n",
    "import numpy as np"
   ]
  },
  {
   "cell_type": "code",
   "execution_count": 2,
   "id": "09f43c0b",
   "metadata": {},
   "outputs": [
    {
     "name": "stderr",
     "output_type": "stream",
     "text": [
      "C:\\Users\\User\\anaconda3\\lib\\site-packages\\IPython\\core\\interactiveshell.py:3165: DtypeWarning: Columns (0,2,4,8,10,11) have mixed types.Specify dtype option on import or set low_memory=False.\n",
      "  has_raised = await self.run_ast_nodes(code_ast.body, cell_name,\n"
     ]
    }
   ],
   "source": [
    "bl=pd.read_csv(r'C:\\Users\\User\\Downloads\\2021 ML BL for Export (9).txt', sep='\\t', dtype={'CS_UPC_NR_CD': 'str'})"
   ]
  },
  {
   "cell_type": "code",
   "execution_count": 3,
   "id": "03ce8269",
   "metadata": {},
   "outputs": [],
   "source": [
    "ch = pd.read_excel(r'C:\\Users\\User\\Downloads\\DHUB CH Extract (4).xlsx') "
   ]
  },
  {
   "cell_type": "code",
   "execution_count": 4,
   "id": "63791394",
   "metadata": {},
   "outputs": [],
   "source": [
    "bl['CUST_ID_NR_CD']=bl['CUST_ID_NR_CD'].astype(str).str.zfill(6)\n",
    "bl['IND_ACCT_NR_CD']=bl['IND_ACCT_NR_CD'].astype(str).str.zfill(6)\n",
    "bl['CS_UPC_NR_CD']=bl['CS_UPC_NR_CD'].astype(str).str.zfill(12)"
   ]
  },
  {
   "cell_type": "code",
   "execution_count": 5,
   "id": "c341cd14",
   "metadata": {},
   "outputs": [],
   "source": [
    "ch['CUST_ID_NR_CD']=ch['CUST_ID_NR_CD'].astype(str).str.zfill(6)\n",
    "ch['IND_ACCT_NR_CD']=ch['IND_ACCT_NR_CD'].astype(str).str.zfill(6)"
   ]
  },
  {
   "cell_type": "code",
   "execution_count": 6,
   "id": "5bc3ce39",
   "metadata": {},
   "outputs": [],
   "source": [
    "ch = ch[[ 'CUST_ID_NR_CD', 'IND_ACCT_NR_CD', '2.7 Planned Account with Indirect', 'Customer Group' ]]   "
   ]
  },
  {
   "cell_type": "code",
   "execution_count": 7,
   "id": "73fcbcce",
   "metadata": {},
   "outputs": [],
   "source": [
    "bl=pd.merge(bl, ch, how='left')"
   ]
  },
  {
   "cell_type": "code",
   "execution_count": 8,
   "id": "87af15c0",
   "metadata": {},
   "outputs": [
    {
     "data": {
      "text/html": [
       "<div>\n",
       "<style scoped>\n",
       "    .dataframe tbody tr th:only-of-type {\n",
       "        vertical-align: middle;\n",
       "    }\n",
       "\n",
       "    .dataframe tbody tr th {\n",
       "        vertical-align: top;\n",
       "    }\n",
       "\n",
       "    .dataframe thead th {\n",
       "        text-align: right;\n",
       "    }\n",
       "</style>\n",
       "<table border=\"1\" class=\"dataframe\">\n",
       "  <thead>\n",
       "    <tr style=\"text-align: right;\">\n",
       "      <th></th>\n",
       "      <th>CUST_ID_NR_CD</th>\n",
       "      <th>IND_ACCT_NR_CD</th>\n",
       "      <th>PROMO_PLN_ID_NR_CD</th>\n",
       "      <th>PROMO_PLN_YR_CD</th>\n",
       "      <th>BRND_NR_CD</th>\n",
       "      <th>CS_UPC_NR_CD</th>\n",
       "      <th>CS_UPC_VRSN_NR_CD</th>\n",
       "      <th>WEEK_NR</th>\n",
       "      <th>SOURCE_CD</th>\n",
       "      <th>SUPPLEMENTAL_VOLUME_NR</th>\n",
       "      <th>CAT_NR_CD</th>\n",
       "      <th>FMLY_NR_CD</th>\n",
       "      <th>2.7 Planned Account with Indirect</th>\n",
       "      <th>Customer Group</th>\n",
       "    </tr>\n",
       "  </thead>\n",
       "  <tbody>\n",
       "    <tr>\n",
       "      <th>0</th>\n",
       "      <td>003107</td>\n",
       "      <td>000000</td>\n",
       "      <td>FC1</td>\n",
       "      <td>2021</td>\n",
       "      <td>RO</td>\n",
       "      <td>004100054055</td>\n",
       "      <td>99.0</td>\n",
       "      <td>0.0</td>\n",
       "      <td>M</td>\n",
       "      <td>0.000000</td>\n",
       "      <td>FC</td>\n",
       "      <td>1UA</td>\n",
       "      <td>003107-000000 (DP DISTRIBUTION - EXPORT)</td>\n",
       "      <td>Export</td>\n",
       "    </tr>\n",
       "    <tr>\n",
       "      <th>1</th>\n",
       "      <td>003111</td>\n",
       "      <td>000000</td>\n",
       "      <td>FC1</td>\n",
       "      <td>2021</td>\n",
       "      <td>RO</td>\n",
       "      <td>004100054055</td>\n",
       "      <td>99.0</td>\n",
       "      <td>0.0</td>\n",
       "      <td>M</td>\n",
       "      <td>0.013800</td>\n",
       "      <td>FC</td>\n",
       "      <td>1UA</td>\n",
       "      <td>003111-000000 (FAIRN &amp; SWANSON - EXPORT)</td>\n",
       "      <td>Export</td>\n",
       "    </tr>\n",
       "    <tr>\n",
       "      <th>2</th>\n",
       "      <td>003113</td>\n",
       "      <td>000000</td>\n",
       "      <td>FC1</td>\n",
       "      <td>2021</td>\n",
       "      <td>RO</td>\n",
       "      <td>004100054055</td>\n",
       "      <td>99.0</td>\n",
       "      <td>0.0</td>\n",
       "      <td>M</td>\n",
       "      <td>2.614652</td>\n",
       "      <td>FC</td>\n",
       "      <td>1UA</td>\n",
       "      <td>003113-000000 (RAYJAK - EXPORT)</td>\n",
       "      <td>Export</td>\n",
       "    </tr>\n",
       "    <tr>\n",
       "      <th>3</th>\n",
       "      <td>003114</td>\n",
       "      <td>000000</td>\n",
       "      <td>FC1</td>\n",
       "      <td>2021</td>\n",
       "      <td>RO</td>\n",
       "      <td>004100054055</td>\n",
       "      <td>99.0</td>\n",
       "      <td>0.0</td>\n",
       "      <td>M</td>\n",
       "      <td>2.740547</td>\n",
       "      <td>FC</td>\n",
       "      <td>1UA</td>\n",
       "      <td>003114-000000 (TRAVEL RETAIL CONCEPTS - EXPORT)</td>\n",
       "      <td>Export</td>\n",
       "    </tr>\n",
       "    <tr>\n",
       "      <th>4</th>\n",
       "      <td>003134</td>\n",
       "      <td>000000</td>\n",
       "      <td>FC1</td>\n",
       "      <td>2021</td>\n",
       "      <td>RO</td>\n",
       "      <td>004100054055</td>\n",
       "      <td>99.0</td>\n",
       "      <td>0.0</td>\n",
       "      <td>M</td>\n",
       "      <td>0.012881</td>\n",
       "      <td>FC</td>\n",
       "      <td>1UA</td>\n",
       "      <td>003134-000000 (DICKERSON &amp; QUINN - EXPORT)</td>\n",
       "      <td>Export</td>\n",
       "    </tr>\n",
       "  </tbody>\n",
       "</table>\n",
       "</div>"
      ],
      "text/plain": [
       "  CUST_ID_NR_CD IND_ACCT_NR_CD PROMO_PLN_ID_NR_CD  PROMO_PLN_YR_CD BRND_NR_CD  \\\n",
       "0        003107         000000                FC1             2021         RO   \n",
       "1        003111         000000                FC1             2021         RO   \n",
       "2        003113         000000                FC1             2021         RO   \n",
       "3        003114         000000                FC1             2021         RO   \n",
       "4        003134         000000                FC1             2021         RO   \n",
       "\n",
       "   CS_UPC_NR_CD  CS_UPC_VRSN_NR_CD  WEEK_NR SOURCE_CD  SUPPLEMENTAL_VOLUME_NR  \\\n",
       "0  004100054055               99.0      0.0         M                0.000000   \n",
       "1  004100054055               99.0      0.0         M                0.013800   \n",
       "2  004100054055               99.0      0.0         M                2.614652   \n",
       "3  004100054055               99.0      0.0         M                2.740547   \n",
       "4  004100054055               99.0      0.0         M                0.012881   \n",
       "\n",
       "  CAT_NR_CD FMLY_NR_CD                2.7 Planned Account with Indirect  \\\n",
       "0        FC        1UA         003107-000000 (DP DISTRIBUTION - EXPORT)   \n",
       "1        FC        1UA         003111-000000 (FAIRN & SWANSON - EXPORT)   \n",
       "2        FC        1UA                  003113-000000 (RAYJAK - EXPORT)   \n",
       "3        FC        1UA  003114-000000 (TRAVEL RETAIL CONCEPTS - EXPORT)   \n",
       "4        FC        1UA       003134-000000 (DICKERSON & QUINN - EXPORT)   \n",
       "\n",
       "  Customer Group  \n",
       "0         Export  \n",
       "1         Export  \n",
       "2         Export  \n",
       "3         Export  \n",
       "4         Export  "
      ]
     },
     "execution_count": 8,
     "metadata": {},
     "output_type": "execute_result"
    }
   ],
   "source": [
    "bl.head()"
   ]
  },
  {
   "cell_type": "code",
   "execution_count": 11,
   "id": "59b9706a",
   "metadata": {},
   "outputs": [
    {
     "data": {
      "text/plain": [
       "array(['Export', nan, 'OOH', 'Central Team', 'All Other Customer',\n",
       "       'New England Team', 'Amazon', 'C&S', 'Albertson East',\n",
       "       'Albertson/Safeway/West Coast', 'Albertsons Rocky Mountain',\n",
       "       'C&S South', 'Delhaize', 'Discount', 'Giant Eagle', 'HEB Team',\n",
       "       'Harris Teeter', 'Kansas City Team', 'Kroger', 'Meijer',\n",
       "       'New York Team', 'Norcal Region', 'Phoenix Region', 'Publix Team',\n",
       "       'SoCal Market', 'South Atlantic Region', 'Target Team',\n",
       "       'Total Supervalu', 'Wakefern Team', 'Walmart', 'E-Commerce',\n",
       "       'Convenience Store', 'Military', 'Natural Specialty Team',\n",
       "       'Wegmans Food Market', 'Alt Channels', 'Walgreens Team',\n",
       "       'Vitacost', 'Rite Aid', 'CVS', 'Boise PC', 'Direct Beauty',\n",
       "       'Independent Beauty Team', \"BJ's\", \"Sam's\", 'Costco',\n",
       "       'Trader Joes', 'Rock Tenn', \"Roundy's\", 'Ahold Direct Historical',\n",
       "       'Vanguard', 'International Paper'], dtype=object)"
      ]
     },
     "execution_count": 11,
     "metadata": {},
     "output_type": "execute_result"
    }
   ],
   "source": [
    "bl['Customer Group'].unique()"
   ]
  },
  {
   "cell_type": "code",
   "execution_count": 12,
   "id": "ade43c70",
   "metadata": {},
   "outputs": [],
   "source": [
    "cust_groups = ['OOH', 'All Other Customer']"
   ]
  },
  {
   "cell_type": "code",
   "execution_count": 13,
   "id": "c48fe7c4",
   "metadata": {},
   "outputs": [],
   "source": [
    "bl = bl[(bl['Customer Group'].isin(cust_groups))&(bl['PROMO_PLN_YR_CD']==2022)]"
   ]
  },
  {
   "cell_type": "code",
   "execution_count": 14,
   "id": "406c1c24",
   "metadata": {},
   "outputs": [
    {
     "data": {
      "text/plain": [
       "array(['All Other Customer', 'OOH'], dtype=object)"
      ]
     },
     "execution_count": 14,
     "metadata": {},
     "output_type": "execute_result"
    }
   ],
   "source": [
    "bl['Customer Group'].unique()"
   ]
  },
  {
   "cell_type": "code",
   "execution_count": 15,
   "id": "cc31ea5a",
   "metadata": {},
   "outputs": [],
   "source": [
    "df = pd.DataFrame(bl.groupby(['2.7 Planned Account with Indirect'])['SUPPLEMENTAL_VOLUME_NR'].sum())"
   ]
  },
  {
   "cell_type": "code",
   "execution_count": 16,
   "id": "df926034",
   "metadata": {},
   "outputs": [],
   "source": [
    "df.reset_index(inplace = True)"
   ]
  },
  {
   "cell_type": "code",
   "execution_count": 17,
   "id": "01fc336d",
   "metadata": {},
   "outputs": [
    {
     "data": {
      "text/html": [
       "<div>\n",
       "<style scoped>\n",
       "    .dataframe tbody tr th:only-of-type {\n",
       "        vertical-align: middle;\n",
       "    }\n",
       "\n",
       "    .dataframe tbody tr th {\n",
       "        vertical-align: top;\n",
       "    }\n",
       "\n",
       "    .dataframe thead th {\n",
       "        text-align: right;\n",
       "    }\n",
       "</style>\n",
       "<table border=\"1\" class=\"dataframe\">\n",
       "  <thead>\n",
       "    <tr style=\"text-align: right;\">\n",
       "      <th></th>\n",
       "      <th>2.7 Planned Account with Indirect</th>\n",
       "      <th>SUPPLEMENTAL_VOLUME_NR</th>\n",
       "    </tr>\n",
       "  </thead>\n",
       "  <tbody>\n",
       "    <tr>\n",
       "      <th>0</th>\n",
       "      <td>000014-000000 (COSTCO TEXAS)</td>\n",
       "      <td>0.000000</td>\n",
       "    </tr>\n",
       "    <tr>\n",
       "      <th>1</th>\n",
       "      <td>000177-000000 (SAM'S CLUB ALL OTHER (MST))</td>\n",
       "      <td>0.000000</td>\n",
       "    </tr>\n",
       "    <tr>\n",
       "      <th>2</th>\n",
       "      <td>000255-000000 (VALUE ALL OTHER REFRIGERATED)</td>\n",
       "      <td>0.000000</td>\n",
       "    </tr>\n",
       "    <tr>\n",
       "      <th>3</th>\n",
       "      <td>000373-000000 (FLORIDA SPECIALTY A-O TRADE)</td>\n",
       "      <td>0.000000</td>\n",
       "    </tr>\n",
       "    <tr>\n",
       "      <th>4</th>\n",
       "      <td>000374-000000 (FLORIDA TM ALL OTHER (DRY))</td>\n",
       "      <td>0.000000</td>\n",
       "    </tr>\n",
       "    <tr>\n",
       "      <th>...</th>\n",
       "      <td>...</td>\n",
       "      <td>...</td>\n",
       "    </tr>\n",
       "    <tr>\n",
       "      <th>75</th>\n",
       "      <td>003437-000000 (KOHLS INC.)</td>\n",
       "      <td>18442.985451</td>\n",
       "    </tr>\n",
       "    <tr>\n",
       "      <th>76</th>\n",
       "      <td>003452-000000 (DOORDASH)</td>\n",
       "      <td>0.000000</td>\n",
       "    </tr>\n",
       "    <tr>\n",
       "      <th>77</th>\n",
       "      <td>003454-000000 (PHILLIPS PET FOOD &amp; SUPPLIES)</td>\n",
       "      <td>44302.830726</td>\n",
       "    </tr>\n",
       "    <tr>\n",
       "      <th>78</th>\n",
       "      <td>003475-000000 (ADUSA GIANT CARLISLE)</td>\n",
       "      <td>166.000000</td>\n",
       "    </tr>\n",
       "    <tr>\n",
       "      <th>79</th>\n",
       "      <td>003477-000000 (IC NOW CONVENIENCE DARK STORES)</td>\n",
       "      <td>3.000000</td>\n",
       "    </tr>\n",
       "  </tbody>\n",
       "</table>\n",
       "<p>80 rows × 2 columns</p>\n",
       "</div>"
      ],
      "text/plain": [
       "                 2.7 Planned Account with Indirect  SUPPLEMENTAL_VOLUME_NR\n",
       "0                     000014-000000 (COSTCO TEXAS)                0.000000\n",
       "1       000177-000000 (SAM'S CLUB ALL OTHER (MST))                0.000000\n",
       "2     000255-000000 (VALUE ALL OTHER REFRIGERATED)                0.000000\n",
       "3      000373-000000 (FLORIDA SPECIALTY A-O TRADE)                0.000000\n",
       "4       000374-000000 (FLORIDA TM ALL OTHER (DRY))                0.000000\n",
       "..                                             ...                     ...\n",
       "75                      003437-000000 (KOHLS INC.)            18442.985451\n",
       "76                        003452-000000 (DOORDASH)                0.000000\n",
       "77    003454-000000 (PHILLIPS PET FOOD & SUPPLIES)            44302.830726\n",
       "78            003475-000000 (ADUSA GIANT CARLISLE)              166.000000\n",
       "79  003477-000000 (IC NOW CONVENIENCE DARK STORES)                3.000000\n",
       "\n",
       "[80 rows x 2 columns]"
      ]
     },
     "execution_count": 17,
     "metadata": {},
     "output_type": "execute_result"
    }
   ],
   "source": [
    "df"
   ]
  },
  {
   "cell_type": "code",
   "execution_count": 18,
   "id": "3a5b025a",
   "metadata": {},
   "outputs": [],
   "source": [
    "df['SUPPLEMENTAL_VOLUME_NR'] = df['SUPPLEMENTAL_VOLUME_NR'].astype('int64')"
   ]
  },
  {
   "cell_type": "code",
   "execution_count": 19,
   "id": "c40f7de4",
   "metadata": {},
   "outputs": [],
   "source": [
    "df.rename(columns={'SUPPLEMENTAL_VOLUME_NR': 'ML BL 2022'}, inplace=True)"
   ]
  },
  {
   "cell_type": "code",
   "execution_count": 20,
   "id": "4e5aa2ac",
   "metadata": {},
   "outputs": [],
   "source": [
    "df.to_csv('OOH accounts BL.csv',  index=False)"
   ]
  },
  {
   "cell_type": "code",
   "execution_count": null,
   "id": "0b5032f5",
   "metadata": {},
   "outputs": [],
   "source": []
  }
 ],
 "metadata": {
  "kernelspec": {
   "display_name": "Python 3",
   "language": "python",
   "name": "python3"
  },
  "language_info": {
   "codemirror_mode": {
    "name": "ipython",
    "version": 3
   },
   "file_extension": ".py",
   "mimetype": "text/x-python",
   "name": "python",
   "nbconvert_exporter": "python",
   "pygments_lexer": "ipython3",
   "version": "3.8.8"
  }
 },
 "nbformat": 4,
 "nbformat_minor": 5
}
